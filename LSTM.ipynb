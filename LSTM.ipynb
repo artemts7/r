{
 "cells": [
  {
   "cell_type": "code",
   "execution_count": 1,
   "metadata": {},
   "outputs": [],
   "source": [
    "import numpy as np\n",
    "from sklearn.model_selection import train_test_split\n",
    "import matplotlib.pyplot as plt\n",
    "from torch import optim\n",
    "import torch\n",
    "from torch import nn\n",
    "import pandas\n",
    "from sklearn.preprocessing import MinMaxScaler\n",
    "from torch.utils.data import DataLoader, Dataset, TensorDataset\n",
    "from IPython.display import clear_output\n",
    "from torch.autograd import Variable\n",
    "%matplotlib inline"
   ]
  },
  {
   "cell_type": "code",
   "execution_count": 22,
   "metadata": {},
   "outputs": [
    {
     "data": {
      "image/png": "[encoded data removed]",
      "text/plain": [
       "<Figure size 432x288 with 1 Axes>"
      ]
     },
     "metadata": {
      "needs_background": "light"
     },
     "output_type": "display_data"
    }
   ],
   "source": [
    "%matplotlib inline\n",
    "dataset = pandas.read_csv('international-airline-passengers.csv', usecols=[1], delimiter=\";\", engine='python', skipfooter=3)\n",
    "plt.plot(dataset)\n",
    "plt.show()"
   ]
  },
  {
   "cell_type": "code",
   "execution_count": 23,
   "metadata": {},
   "outputs": [
    {
     "data": {
      "text/plain": [
       "144"
      ]
     },
     "execution_count": 23,
     "metadata": {},
     "output_type": "execute_result"
    }
   ],
   "source": [
    "len(dataset)"
   ]
  },
  {
   "cell_type": "code",
   "execution_count": 24,
   "metadata": {},
   "outputs": [],
   "source": [
    "# подготовливаем данные\n",
    "\n",
    "dataset = dataset.values\n",
    "dataset = dataset.astype('float32')\n",
    "scaler = MinMaxScaler(feature_range=(0, 1))\n",
    "dataset = scaler.fit_transform(dataset)"
   ]
  },
  {
   "cell_type": "code",
   "execution_count": 25,
   "metadata": {},
   "outputs": [
    {
     "name": "stdout",
     "output_type": "stream",
     "text": [
      "97 47\n"
     ]
    }
   ],
   "source": [
    "# разбиваем данные на train / test\n",
    "train_size = int(len(dataset) * 0.68)\n",
    "test_size = len(dataset) - train_size\n",
    "train, test = dataset[0:train_size,:], dataset[train_size:len(dataset),:]\n",
    "print(len(train), len(test))"
   ]
  },
  {
   "cell_type": "code",
   "execution_count": 26,
   "metadata": {},
   "outputs": [],
   "source": [
    "# Целевая переменная - сдвинутая последовательность значений входов\n",
    "\n",
    "def create_dataset(dataset, look_back=1, look_forward=1):\n",
    "    dataX, dataY = [], []\n",
    "    for i in range(len(dataset)-look_back-1-look_forward):\n",
    "        a = dataset[i:(i+look_back), 0]\n",
    "        dataX.append(a)\n",
    "        dataY.append(dataset[i + look_back : (i + look_back + look_forward), 0])\n",
    "\n",
    "    return np.array(dataX), np.array(dataY)"
   ]
  },
  {
   "cell_type": "code",
   "execution_count": 27,
   "metadata": {},
   "outputs": [],
   "source": [
    "look_back = 3\n",
    "look_forward = 1\n",
    "trainX, trainY = create_dataset(train, look_back, look_forward)\n",
    "testX, testY = create_dataset(test, look_back, look_forward)\n",
    "\n",
    "trainX = np.reshape(trainX, (trainX.shape[0], 1,  trainX.shape[1]))\n",
    "testX = np.reshape(testX, (testX.shape[0], 1, testX.shape[1]))"
   ]
  },
  {
   "cell_type": "code",
   "execution_count": 28,
   "metadata": {},
   "outputs": [],
   "source": [
    "train_dataset = TensorDataset(torch.from_numpy(trainX), torch.from_numpy(trainY))"
   ]
  },
  {
   "cell_type": "code",
   "execution_count": 29,
   "metadata": {},
   "outputs": [
    {
     "data": {
      "text/plain": [
       "(tensor([[0.0154, 0.0270, 0.0541]]), tensor([0.0483]))"
      ]
     },
     "execution_count": 29,
     "metadata": {},
     "output_type": "execute_result"
    }
   ],
   "source": [
    "(train_dataset[0][0], train_dataset[0][1])"
   ]
  },
  {
   "cell_type": "code",
   "execution_count": 30,
   "metadata": {},
   "outputs": [],
   "source": [
    "batch_size = 1\n",
    "train_dataloader =  DataLoader(train_dataset, batch_size = batch_size)\n",
    "epochs = 100\n",
    "seq_len = look_back\n",
    "input_size = 1\n",
    "koll_test = len(test)\n"
   ]
  },
  {
   "cell_type": "code",
   "execution_count": 36,
   "metadata": {},
   "outputs": [],
   "source": [
    "class LSTM_with_enter(nn.Module):\n",
    "    def __init__(self, input_size = 1, num_layers = 1, hidden_size = 100, output_size = 1, batch_size = 1):\n",
    "        super().__init__()\n",
    "        self.hidden_size = hidden_size\n",
    "\n",
    "        self.num_layers = num_layers\n",
    "        \n",
    "        self.batch_size = batch_size\n",
    "        \n",
    "        self.lstm = nn.LSTM(input_size,  hidden_size, num_layers)\n",
    "\n",
    "        self.linear = nn.Linear(hidden_size * batch_size , output_size)\n",
    "\n",
    "        self.hidden_cell = (torch.zeros(self.num_layers, self.batch_size, self.hidden_size),\n",
    "                            torch.zeros(self.num_layers, self.batch_size, self.hidden_size))\n",
    "\n",
    "    def forward(self, input_seq):\n",
    "        lstm_out, self.hidden_cell = self.lstm(input_seq.view(len(input_seq) , self.batch_size, input_size), self.hidden_cell)\n",
    "        predictions = self.linear(lstm_out.view(len(input_seq), -1))\n",
    "        return predictions[-1]"
   ]
  },
  {
   "cell_type": "code",
   "execution_count": 37,
   "metadata": {},
   "outputs": [],
   "source": [
    "model = LSTM_with_enter()\n",
    "loss_function = nn.MSELoss()\n",
    "optimizer = torch.optim.Adam(model.parameters(), lr=0.001)"
   ]
  },
  {
   "cell_type": "code",
   "execution_count": 38,
   "metadata": {},
   "outputs": [],
   "source": [
    "def evald(seq_len, koll_test, train_dataset, dataset):\n",
    "    dataset = pandas.read_csv('international-airline-passengers.csv', usecols=[1], delimiter=\";\", engine='python', skipfooter=3)\n",
    "    test_inputs = train_dataset[-1, 0][0].tolist()\n",
    "    model.eval()\n",
    "    for j in range(koll_test):\n",
    "        seq = torch.FloatTensor(test_inputs[-seq_len:])\n",
    "        with torch.no_grad():\n",
    "            model.hidden = (torch.zeros(model.num_layers, batch_size, model.hidden_size),\n",
    "                            torch.zeros(model.num_layers, batch_size, model.hidden_size))\n",
    "            test_inputs.append(model(seq).item())\n",
    "    \n",
    "    actual_predictions = scaler.inverse_transform(np.array(test_inputs[seq_len:] ).reshape(-1, 1))\n",
    "    x = np.arange(len(dataset) - koll_test - 1, len(dataset) - 1, 1)\n",
    "    \n",
    "    clear_output(True)\n",
    "    plt.title('Month vs Passenger')\n",
    "    plt.ylabel('Total Passengers')\n",
    "    plt.grid(True)\n",
    "    plt.autoscale(axis='x', tight=True)\n",
    "    plt.plot(dataset)\n",
    "    plt.plot(x,actual_predictions)\n",
    "    plt.show()"
   ]
  },
  {
   "cell_type": "code",
   "execution_count": 39,
   "metadata": {},
   "outputs": [],
   "source": [
    "def train(epochs, seq_len, input_size, train_dataloader):\n",
    "    model.train()\n",
    "    for i in range(epochs):\n",
    "        for seq, labels in train_dataloader:\n",
    "            optimizer.zero_grad()\n",
    "            seq = seq.view(seq_len, batch_size, input_size)\n",
    "            model.hidden_cell = (torch.zeros(model.num_layers, batch_size, model.hidden_size),\n",
    "                                torch.zeros(model.num_layers, batch_size, model.hidden_size))\n",
    "            y_pred = model(seq)\n",
    "            single_loss = loss_function(y_pred, labels)\n",
    "            single_loss.backward()\n",
    "            optimizer.step()\n",
    "        \n",
    "            \n",
    "#         if i%25 == 1:\n",
    "#             print(f'epoch: {i:3} loss: {single_loss.item():10.8f}')\n",
    "        \n",
    "        evald(seq_len, len(test), train_dataset, dataset)\n",
    "    \n",
    "\n",
    "    print(f'epoch: {i:3} loss: {single_loss.item():10.10f}')"
   ]
  },
  {
   "cell_type": "code",
   "execution_count": 40,
   "metadata": {},
   "outputs": [],
   "source": [
    "batch_size = 1\n",
    "train_dataloader =  DataLoader(train_dataset, batch_size = batch_size)\n",
    "epochs = 100\n",
    "seq_len = look_back\n",
    "input_size = 1\n",
    "koll_test = len(test)"
   ]
  },
  {
   "cell_type": "code",
   "execution_count": null,
   "metadata": {},
   "outputs": [
    {
     "data": {
      "image/png": "[encoded data removed]",
      "text/plain": [
       "<Figure size 432x288 with 1 Axes>"
      ]
     },
     "metadata": {
      "needs_background": "light"
     },
     "output_type": "display_data"
    },
    {
     "name": "stderr",
     "output_type": "stream",
     "text": [
      "C:\\anaconda\\lib\\site-packages\\torch\\nn\\modules\\loss.py:445: UserWarning: Using a target size (torch.Size([1, 1])) that is different to the input size (torch.Size([1])). This will likely lead to incorrect results due to broadcasting. Please ensure they have the same size.\n",
      "  return F.mse_loss(input, target, reduction=self.reduction)\n"
     ]
    }
   ],
   "source": [
    "train(epochs, seq_len, input_size, train_dataloader)"
   ]
  },
  {
   "cell_type": "code",
   "execution_count": 42,
   "metadata": {},
   "outputs": [],
   "source": [
    "# #обучение\n",
    "# epochs = 150\n",
    "# seq_len = look_back\n",
    "# input_size = 1\n",
    "# for i in range(epochs):\n",
    "#     for seq, labels in train_dataloader:\n",
    "#         optimizer.zero_grad()\n",
    "#         seq = seq.view(seq_len, batch_size, input_size)\n",
    "#         model.hidden_cell = (torch.zeros(model.num_layers, batch_size, model.hidden_size),\n",
    "#                             torch.zeros(model.num_layers, batch_size, model.hidden_size))\n",
    "#         y_pred = model(seq)\n",
    "#         single_loss = loss_function(y_pred, labels)\n",
    "#         single_loss.backward()\n",
    "#         optimizer.step()\n",
    "    \n",
    "    \n",
    "#     #предсказание\n",
    "#     pred_len = 5\n",
    "#     koll_test = len(test)\n",
    "#     test_inputs = train_dataset[-1, 0][0]\n",
    "#     test_inputs = test_inputs.tolist()\n",
    "#     model.eval()\n",
    "#     for j in range(koll_test):\n",
    "#         seq = torch.FloatTensor(test_inputs[-pred_len:])\n",
    "#         with torch.no_grad():\n",
    "#             model.hidden = (torch.zeros(model.num_layers, batch_size, model.hidden_size),\n",
    "#                             torch.zeros(model.num_layers, batch_size, model.hidden_size))\n",
    "#             test_inputs.append(model(seq).item())\n",
    "    \n",
    "#     actual_predictions = scaler.inverse_transform(np.array(test_inputs[pred_len:] ).reshape(-1, 1))\n",
    "#     x = np.arange(143-48, 143, 1)\n",
    "    \n",
    "#     clear_output(True)\n",
    "    \n",
    "#     plt.title('Month vs Passenger')\n",
    "#     plt.ylabel('Total Passengers')\n",
    "#     plt.grid(True)\n",
    "#     plt.autoscale(axis='x', tight=True)\n",
    "#     plt.plot(dataset)\n",
    "#     plt.plot(x,actual_predictions)\n",
    "#     plt.show()\n",
    "    \n",
    "#     if i%25 == 1:\n",
    "#         print(f'epoch: {i:3} loss: {single_loss.item():10.8f}')\n",
    "    \n",
    "\n",
    "# print(f'epoch: {i:3} loss: {single_loss.item():10.10f}')"
   ]
  },
  {
   "cell_type": "code",
   "execution_count": null,
   "metadata": {},
   "outputs": [],
   "source": []
  }
 ],
 "metadata": {
  "kernelspec": {
   "display_name": "Python 3",
   "language": "python",
   "name": "python3"
  },
  "language_info": {
   "codemirror_mode": {
    "name": "ipython",
    "version": 3
   },
   "file_extension": ".py",
   "mimetype": "text/x-python",
   "name": "python",
   "nbconvert_exporter": "python",
   "pygments_lexer": "ipython3",
   "version": "3.7.4"
  }
 },
 "nbformat": 4,
 "nbformat_minor": 2
}
