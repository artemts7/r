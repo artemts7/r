{
 "cells": [
  {
   "cell_type": "code",
   "execution_count": 1,
   "metadata": {},
   "outputs": [],
   "source": [
    "import numpy as np \n",
    "import pandas as pd "
   ]
  },
  {
   "cell_type": "code",
   "execution_count": 2,
   "metadata": {},
   "outputs": [],
   "source": [
    "import matplotlib\n",
    "import matplotlib.pyplot as plt\n",
    "import seaborn as sns\n",
    "%matplotlib inline"
   ]
  },
  {
   "cell_type": "code",
   "execution_count": 3,
   "metadata": {},
   "outputs": [],
   "source": [
    "from collections import defaultdict\n",
    "from sklearn.metrics import roc_curve, auc\n",
    "import os\n",
    "import pathlib\n",
    "import tempfile\n",
    "\n",
    "import matplotlib.pyplot as plt\n",
    "import numpy as np\n",
    "import openpyxl.drawing.image\n",
    "from openpyxl.formatting.rule import ColorScaleRule\n",
    "from openpyxl.utils.dataframe import dataframe_to_rows\n",
    "import pandas as pd\n",
    "import seaborn as sns\n",
    "from sklearn.metrics import (\n",
    "    accuracy_score,\n",
    "    confusion_matrix,\n",
    "    precision_recall_fscore_support,\n",
    ")\n",
    "\n",
    "\n",
    "def generate_classification_report(\n",
    "    y_true: np.ndarray, y_pred: np.ndarray, y_pred_scored: np.ndarray\n",
    ") -> pd.DataFrame:\n",
    "    \"\"\"Generates pandas-based per-class and aggregated classification metrics.\n",
    "    Args:\n",
    "        y_true: ground truth labels\n",
    "        y_pred:  predicted model labels\n",
    "    Returns:\n",
    "        pandas dataframe with main classification metrics\n",
    "    \"\"\"\n",
    "    metrics = defaultdict(lambda: {})\n",
    "    metrics_names = [\n",
    "        \"precision\",\n",
    "        \"recall\",\n",
    "        \"f1-score\",\n",
    "        \"auc\",\n",
    "        \"support\",\n",
    "        \"support (%)\",\n",
    "    ]\n",
    "    avg_names = [\"macro\", \"micro\", \"weighted\"]\n",
    "    labels = sorted(set(y_true).union(y_pred))\n",
    "    \n",
    "    auc = Auc(y_true, y_pred_scored, len(labels))\n",
    "    \n",
    "    accuracy = accuracy_score(y_true=y_true, y_pred=y_pred)\n",
    "    precision, recall, f1, support = precision_recall_fscore_support(\n",
    "        y_true=y_true, y_pred=y_pred, average=None, labels=labels,\n",
    "    )\n",
    "    r_support = support / support.sum()\n",
    "\n",
    "    for average in avg_names:\n",
    "        avg_precision, avg_recall, avg_f1, _ = precision_recall_fscore_support(\n",
    "            y_true=y_true, y_pred=y_pred, average=average, labels=labels,\n",
    "        )\n",
    "       \n",
    "        avg_metrics = avg_precision, avg_recall, avg_f1\n",
    "        for k, v in zip(metrics_names[:4], avg_metrics):\n",
    "            metrics[k][average] = v\n",
    "\n",
    "    report = pd.DataFrame(\n",
    "        [precision, recall, f1, auc, support, r_support],\n",
    "        columns=labels,\n",
    "        index=metrics_names,\n",
    "    ).T\n",
    "\n",
    "    metrics[\"support\"][\"macro\"] = support.sum()\n",
    "    metrics[\"precision\"][\"accuracy\"] = accuracy\n",
    "    metrics = pd.DataFrame(metrics, index=avg_names + [\"accuracy\"])\n",
    "\n",
    "    result = pd.concat((report, metrics)).fillna(\"\")\n",
    "    result = result[metrics_names]\n",
    "    return result\n",
    "\n",
    "\n",
    "\n",
    "def plot_confusion_matrix_heatmap(\n",
    "    true: np.ndarray, predicted: np.ndarray\n",
    ") -> None:\n",
    "    \"\"\"Plots confusion matrix with seaborn.\n",
    "    Args:\n",
    "        true: ground truth labels\n",
    "        predicted: predicted model labels\n",
    "    \"\"\"\n",
    "    classes = sorted(np.unique(true))\n",
    "    matrix = confusion_matrix(true, predicted, labels=classes)\n",
    "    matrix = matrix.astype(\"float\") / matrix.sum(axis=1)[:, np.newaxis]\n",
    "    matrix = matrix.round(decimals=2)\n",
    "    sns.heatmap(\n",
    "        matrix,\n",
    "        xticklabels=classes,\n",
    "        yticklabels=classes,\n",
    "        annot=True,\n",
    "        fmt=\"g\",\n",
    "        square=True,\n",
    "    )\n",
    "    plt.xlabel(\"Predicted label\")\n",
    "    plt.ylabel(\"True label\")\n",
    "\n",
    "def Auc(y_test, y_pred_scored, n_classes):\n",
    "    y_test_matrix = np.zeros(y_test.shape[0] * n_classes)\n",
    "    y_test_matrix = y_test_matrix.reshape(-1, n_classes)\n",
    "    for i, e in enumerate(y_test):\n",
    "        y_test_matrix[i][e - 1] = 1\n",
    "    fpr = dict()\n",
    "    tpr = dict()\n",
    "    roc_auc = np.zeros(n_classes)\n",
    "    for i in range(n_classes):\n",
    "        fpr[i], tpr[i], _ = roc_curve(y_test_matrix[:, i], y_pred_scored[:, i])\n",
    "        roc_auc[i] = auc(fpr[i], tpr[i])\n",
    "    return roc_auc"
   ]
  },
  {
   "cell_type": "code",
   "execution_count": 4,
   "metadata": {},
   "outputs": [],
   "source": [
    "train_data = pd.read_csv(\"train\\\\train.csv\")\n",
    "test_data = pd.read_csv(\"test\\\\test.csv\")"
   ]
  },
  {
   "cell_type": "code",
   "execution_count": 5,
   "metadata": {},
   "outputs": [
    {
     "data": {
      "text/html": [
       "<div>\n",
       "<style scoped>\n",
       "    .dataframe tbody tr th:only-of-type {\n",
       "        vertical-align: middle;\n",
       "    }\n",
       "\n",
       "    .dataframe tbody tr th {\n",
       "        vertical-align: top;\n",
       "    }\n",
       "\n",
       "    .dataframe thead th {\n",
       "        text-align: right;\n",
       "    }\n",
       "</style>\n",
       "<table border=\"1\" class=\"dataframe\">\n",
       "  <thead>\n",
       "    <tr style=\"text-align: right;\">\n",
       "      <th></th>\n",
       "      <th>Id</th>\n",
       "      <th>Elevation</th>\n",
       "      <th>Aspect</th>\n",
       "      <th>Slope</th>\n",
       "      <th>Horizontal_Distance_To_Hydrology</th>\n",
       "      <th>Vertical_Distance_To_Hydrology</th>\n",
       "      <th>Horizontal_Distance_To_Roadways</th>\n",
       "      <th>Hillshade_9am</th>\n",
       "      <th>Hillshade_Noon</th>\n",
       "      <th>Hillshade_3pm</th>\n",
       "      <th>...</th>\n",
       "      <th>Soil_Type32</th>\n",
       "      <th>Soil_Type33</th>\n",
       "      <th>Soil_Type34</th>\n",
       "      <th>Soil_Type35</th>\n",
       "      <th>Soil_Type36</th>\n",
       "      <th>Soil_Type37</th>\n",
       "      <th>Soil_Type38</th>\n",
       "      <th>Soil_Type39</th>\n",
       "      <th>Soil_Type40</th>\n",
       "      <th>Cover_Type</th>\n",
       "    </tr>\n",
       "  </thead>\n",
       "  <tbody>\n",
       "    <tr>\n",
       "      <th>0</th>\n",
       "      <td>1</td>\n",
       "      <td>2596</td>\n",
       "      <td>51</td>\n",
       "      <td>3</td>\n",
       "      <td>258</td>\n",
       "      <td>0</td>\n",
       "      <td>510</td>\n",
       "      <td>221</td>\n",
       "      <td>232</td>\n",
       "      <td>148</td>\n",
       "      <td>...</td>\n",
       "      <td>0</td>\n",
       "      <td>0</td>\n",
       "      <td>0</td>\n",
       "      <td>0</td>\n",
       "      <td>0</td>\n",
       "      <td>0</td>\n",
       "      <td>0</td>\n",
       "      <td>0</td>\n",
       "      <td>0</td>\n",
       "      <td>5</td>\n",
       "    </tr>\n",
       "    <tr>\n",
       "      <th>1</th>\n",
       "      <td>2</td>\n",
       "      <td>2590</td>\n",
       "      <td>56</td>\n",
       "      <td>2</td>\n",
       "      <td>212</td>\n",
       "      <td>-6</td>\n",
       "      <td>390</td>\n",
       "      <td>220</td>\n",
       "      <td>235</td>\n",
       "      <td>151</td>\n",
       "      <td>...</td>\n",
       "      <td>0</td>\n",
       "      <td>0</td>\n",
       "      <td>0</td>\n",
       "      <td>0</td>\n",
       "      <td>0</td>\n",
       "      <td>0</td>\n",
       "      <td>0</td>\n",
       "      <td>0</td>\n",
       "      <td>0</td>\n",
       "      <td>5</td>\n",
       "    </tr>\n",
       "    <tr>\n",
       "      <th>2</th>\n",
       "      <td>3</td>\n",
       "      <td>2804</td>\n",
       "      <td>139</td>\n",
       "      <td>9</td>\n",
       "      <td>268</td>\n",
       "      <td>65</td>\n",
       "      <td>3180</td>\n",
       "      <td>234</td>\n",
       "      <td>238</td>\n",
       "      <td>135</td>\n",
       "      <td>...</td>\n",
       "      <td>0</td>\n",
       "      <td>0</td>\n",
       "      <td>0</td>\n",
       "      <td>0</td>\n",
       "      <td>0</td>\n",
       "      <td>0</td>\n",
       "      <td>0</td>\n",
       "      <td>0</td>\n",
       "      <td>0</td>\n",
       "      <td>2</td>\n",
       "    </tr>\n",
       "    <tr>\n",
       "      <th>3</th>\n",
       "      <td>4</td>\n",
       "      <td>2785</td>\n",
       "      <td>155</td>\n",
       "      <td>18</td>\n",
       "      <td>242</td>\n",
       "      <td>118</td>\n",
       "      <td>3090</td>\n",
       "      <td>238</td>\n",
       "      <td>238</td>\n",
       "      <td>122</td>\n",
       "      <td>...</td>\n",
       "      <td>0</td>\n",
       "      <td>0</td>\n",
       "      <td>0</td>\n",
       "      <td>0</td>\n",
       "      <td>0</td>\n",
       "      <td>0</td>\n",
       "      <td>0</td>\n",
       "      <td>0</td>\n",
       "      <td>0</td>\n",
       "      <td>2</td>\n",
       "    </tr>\n",
       "    <tr>\n",
       "      <th>4</th>\n",
       "      <td>5</td>\n",
       "      <td>2595</td>\n",
       "      <td>45</td>\n",
       "      <td>2</td>\n",
       "      <td>153</td>\n",
       "      <td>-1</td>\n",
       "      <td>391</td>\n",
       "      <td>220</td>\n",
       "      <td>234</td>\n",
       "      <td>150</td>\n",
       "      <td>...</td>\n",
       "      <td>0</td>\n",
       "      <td>0</td>\n",
       "      <td>0</td>\n",
       "      <td>0</td>\n",
       "      <td>0</td>\n",
       "      <td>0</td>\n",
       "      <td>0</td>\n",
       "      <td>0</td>\n",
       "      <td>0</td>\n",
       "      <td>5</td>\n",
       "    </tr>\n",
       "  </tbody>\n",
       "</table>\n",
       "<p>5 rows × 56 columns</p>\n",
       "</div>"
      ],
      "text/plain": [
       "   Id  Elevation  Aspect  Slope  Horizontal_Distance_To_Hydrology  \\\n",
       "0   1       2596      51      3                               258   \n",
       "1   2       2590      56      2                               212   \n",
       "2   3       2804     139      9                               268   \n",
       "3   4       2785     155     18                               242   \n",
       "4   5       2595      45      2                               153   \n",
       "\n",
       "   Vertical_Distance_To_Hydrology  Horizontal_Distance_To_Roadways  \\\n",
       "0                               0                              510   \n",
       "1                              -6                              390   \n",
       "2                              65                             3180   \n",
       "3                             118                             3090   \n",
       "4                              -1                              391   \n",
       "\n",
       "   Hillshade_9am  Hillshade_Noon  Hillshade_3pm  ...  Soil_Type32  \\\n",
       "0            221             232            148  ...            0   \n",
       "1            220             235            151  ...            0   \n",
       "2            234             238            135  ...            0   \n",
       "3            238             238            122  ...            0   \n",
       "4            220             234            150  ...            0   \n",
       "\n",
       "   Soil_Type33  Soil_Type34  Soil_Type35  Soil_Type36  Soil_Type37  \\\n",
       "0            0            0            0            0            0   \n",
       "1            0            0            0            0            0   \n",
       "2            0            0            0            0            0   \n",
       "3            0            0            0            0            0   \n",
       "4            0            0            0            0            0   \n",
       "\n",
       "   Soil_Type38  Soil_Type39  Soil_Type40  Cover_Type  \n",
       "0            0            0            0           5  \n",
       "1            0            0            0           5  \n",
       "2            0            0            0           2  \n",
       "3            0            0            0           2  \n",
       "4            0            0            0           5  \n",
       "\n",
       "[5 rows x 56 columns]"
      ]
     },
     "execution_count": 5,
     "metadata": {},
     "output_type": "execute_result"
    }
   ],
   "source": [
    "train_data.head()"
   ]
  },
  {
   "cell_type": "code",
   "execution_count": 6,
   "metadata": {},
   "outputs": [],
   "source": [
    "X=train_data.drop(labels=['Id','Cover_Type'],axis=1)\n",
    "y=train_data['Cover_Type']"
   ]
  },
  {
   "cell_type": "markdown",
   "metadata": {},
   "source": [
    "**Train Test Split**"
   ]
  },
  {
   "cell_type": "code",
   "execution_count": 7,
   "metadata": {},
   "outputs": [],
   "source": [
    "from sklearn.model_selection import train_test_split\n",
    "X_train, X_test, y_train,  y_test = train_test_split(X, y, test_size = 0.2, random_state=40)\n",
    "y_test = y_test.to_numpy()"
   ]
  },
  {
   "cell_type": "markdown",
   "metadata": {},
   "source": [
    "**Sklearn RidgeClassifier**"
   ]
  },
  {
   "cell_type": "code",
   "execution_count": 8,
   "metadata": {},
   "outputs": [
    {
     "name": "stdout",
     "output_type": "stream",
     "text": [
      "accuracy : 0.6273148148148148\n"
     ]
    }
   ],
   "source": [
    "from sklearn.linear_model import RidgeClassifier\n",
    "from sklearn.metrics import accuracy_score\n",
    "from sklearn.metrics import confusion_matrix\n",
    "\n",
    "rc = RidgeClassifier()\n",
    "rc.fit(X_train, y_train)\n",
    "pred = rc.predict(X_test)\n",
    "y_score_pred = rc.decision_function(X_test)\n",
    "print(\"accuracy :\", rc.score(X_test, y_test))"
   ]
  },
  {
   "cell_type": "code",
   "execution_count": 9,
   "metadata": {},
   "outputs": [
    {
     "data": {
      "text/plain": [
       "array([[283,  82,   1,   0,  32,   1,  41],\n",
       "       [128, 201,   4,   2,  94,  13,   5],\n",
       "       [  0,   0, 196,  67,  16, 141,   0],\n",
       "       [  0,   0,  41, 367,   0,  48,   0],\n",
       "       [ 24,  52,  33,  18, 279,  20,   0],\n",
       "       [  1,  15,  76,  51,  33, 231,   0],\n",
       "       [ 81,   1,   3,   0,   3,   0, 340]], dtype=int64)"
      ]
     },
     "execution_count": 9,
     "metadata": {},
     "output_type": "execute_result"
    }
   ],
   "source": [
    "confusion_matrix(y_test, pred)"
   ]
  },
  {
   "cell_type": "code",
   "execution_count": 10,
   "metadata": {},
   "outputs": [
    {
     "data": {
      "image/png": "[encoded data removed]",
      "text/plain": [
       "<Figure size 432x288 with 2 Axes>"
      ]
     },
     "metadata": {
      "needs_background": "light"
     },
     "output_type": "display_data"
    }
   ],
   "source": [
    "plot_confusion_matrix_heatmap(y_test, pred)"
   ]
  },
  {
   "cell_type": "code",
   "execution_count": 11,
   "metadata": {},
   "outputs": [
    {
     "data": {
      "text/html": [
       "<div>\n",
       "<style scoped>\n",
       "    .dataframe tbody tr th:only-of-type {\n",
       "        vertical-align: middle;\n",
       "    }\n",
       "\n",
       "    .dataframe tbody tr th {\n",
       "        vertical-align: top;\n",
       "    }\n",
       "\n",
       "    .dataframe thead th {\n",
       "        text-align: right;\n",
       "    }\n",
       "</style>\n",
       "<table border=\"1\" class=\"dataframe\">\n",
       "  <thead>\n",
       "    <tr style=\"text-align: right;\">\n",
       "      <th></th>\n",
       "      <th>precision</th>\n",
       "      <th>recall</th>\n",
       "      <th>f1-score</th>\n",
       "      <th>auc</th>\n",
       "      <th>support</th>\n",
       "      <th>support (%)</th>\n",
       "    </tr>\n",
       "  </thead>\n",
       "  <tbody>\n",
       "    <tr>\n",
       "      <th>1</th>\n",
       "      <td>0.547389</td>\n",
       "      <td>0.643182</td>\n",
       "      <td>0.591432</td>\n",
       "      <td>0.914035</td>\n",
       "      <td>440</td>\n",
       "      <td>0.145503</td>\n",
       "    </tr>\n",
       "    <tr>\n",
       "      <th>2</th>\n",
       "      <td>0.572650</td>\n",
       "      <td>0.449664</td>\n",
       "      <td>0.503759</td>\n",
       "      <td>0.880748</td>\n",
       "      <td>447</td>\n",
       "      <td>0.147817</td>\n",
       "    </tr>\n",
       "    <tr>\n",
       "      <th>3</th>\n",
       "      <td>0.553672</td>\n",
       "      <td>0.466667</td>\n",
       "      <td>0.50646</td>\n",
       "      <td>0.905444</td>\n",
       "      <td>420</td>\n",
       "      <td>0.138889</td>\n",
       "    </tr>\n",
       "    <tr>\n",
       "      <th>4</th>\n",
       "      <td>0.726733</td>\n",
       "      <td>0.804825</td>\n",
       "      <td>0.763788</td>\n",
       "      <td>0.978934</td>\n",
       "      <td>456</td>\n",
       "      <td>0.150794</td>\n",
       "    </tr>\n",
       "    <tr>\n",
       "      <th>5</th>\n",
       "      <td>0.610503</td>\n",
       "      <td>0.65493</td>\n",
       "      <td>0.631937</td>\n",
       "      <td>0.910294</td>\n",
       "      <td>426</td>\n",
       "      <td>0.140873</td>\n",
       "    </tr>\n",
       "    <tr>\n",
       "      <th>6</th>\n",
       "      <td>0.508811</td>\n",
       "      <td>0.567568</td>\n",
       "      <td>0.536585</td>\n",
       "      <td>0.906854</td>\n",
       "      <td>407</td>\n",
       "      <td>0.13459</td>\n",
       "    </tr>\n",
       "    <tr>\n",
       "      <th>7</th>\n",
       "      <td>0.880829</td>\n",
       "      <td>0.794393</td>\n",
       "      <td>0.835381</td>\n",
       "      <td>0.987029</td>\n",
       "      <td>428</td>\n",
       "      <td>0.141534</td>\n",
       "    </tr>\n",
       "    <tr>\n",
       "      <th>macro</th>\n",
       "      <td>0.628655</td>\n",
       "      <td>0.62589</td>\n",
       "      <td>0.624192</td>\n",
       "      <td></td>\n",
       "      <td>3024</td>\n",
       "      <td></td>\n",
       "    </tr>\n",
       "    <tr>\n",
       "      <th>micro</th>\n",
       "      <td>0.627315</td>\n",
       "      <td>0.627315</td>\n",
       "      <td>0.627315</td>\n",
       "      <td></td>\n",
       "      <td></td>\n",
       "      <td></td>\n",
       "    </tr>\n",
       "    <tr>\n",
       "      <th>weighted</th>\n",
       "      <td>0.629932</td>\n",
       "      <td>0.627315</td>\n",
       "      <td>0.625512</td>\n",
       "      <td></td>\n",
       "      <td></td>\n",
       "      <td></td>\n",
       "    </tr>\n",
       "    <tr>\n",
       "      <th>accuracy</th>\n",
       "      <td>0.627315</td>\n",
       "      <td></td>\n",
       "      <td></td>\n",
       "      <td></td>\n",
       "      <td></td>\n",
       "      <td></td>\n",
       "    </tr>\n",
       "  </tbody>\n",
       "</table>\n",
       "</div>"
      ],
      "text/plain": [
       "          precision    recall  f1-score       auc support support (%)\n",
       "1          0.547389  0.643182  0.591432  0.914035     440    0.145503\n",
       "2          0.572650  0.449664  0.503759  0.880748     447    0.147817\n",
       "3          0.553672  0.466667   0.50646  0.905444     420    0.138889\n",
       "4          0.726733  0.804825  0.763788  0.978934     456    0.150794\n",
       "5          0.610503   0.65493  0.631937  0.910294     426    0.140873\n",
       "6          0.508811  0.567568  0.536585  0.906854     407     0.13459\n",
       "7          0.880829  0.794393  0.835381  0.987029     428    0.141534\n",
       "macro      0.628655   0.62589  0.624192              3024            \n",
       "micro      0.627315  0.627315  0.627315                              \n",
       "weighted   0.629932  0.627315  0.625512                              \n",
       "accuracy   0.627315                                                  "
      ]
     },
     "execution_count": 11,
     "metadata": {},
     "output_type": "execute_result"
    }
   ],
   "source": [
    "generate_classification_report(y_test, pred, y_score_pred)"
   ]
  },
  {
   "cell_type": "code",
   "execution_count": null,
   "metadata": {},
   "outputs": [],
   "source": []
  },
  {
   "cell_type": "markdown",
   "metadata": {},
   "source": [
    "**Sklearn KNeighborsClassifier**"
   ]
  },
  {
   "cell_type": "code",
   "execution_count": 13,
   "metadata": {},
   "outputs": [
    {
     "name": "stdout",
     "output_type": "stream",
     "text": [
      "accuracy : 0.8078703703703703\n"
     ]
    }
   ],
   "source": [
    "from sklearn.neighbors import KNeighborsClassifier\n",
    "\n",
    "knn = KNeighborsClassifier()\n",
    "knn.fit(X_train, y_train)\n",
    "pred = knn.predict(X_test)\n",
    "y_pred_scored = knn.predict_proba(X_test)\n",
    "print(\"accuracy :\", knn.score(X_test, y_test))"
   ]
  },
  {
   "cell_type": "code",
   "execution_count": 14,
   "metadata": {},
   "outputs": [
    {
     "data": {
      "text/plain": [
       "array([[291,  71,   2,   0,  20,   0,  56],\n",
       "       [107, 239,  18,   0,  48,  23,  12],\n",
       "       [  0,   4, 324,  29,   5,  58,   0],\n",
       "       [  0,   0,   9, 436,   0,  11,   0],\n",
       "       [  1,   4,  12,   0, 404,   5,   0],\n",
       "       [  1,   3,  38,  19,   8, 338,   0],\n",
       "       [ 12,   5,   0,   0,   0,   0, 411]], dtype=int64)"
      ]
     },
     "execution_count": 14,
     "metadata": {},
     "output_type": "execute_result"
    }
   ],
   "source": [
    "confusion_matrix(y_test, pred)"
   ]
  },
  {
   "cell_type": "code",
   "execution_count": 15,
   "metadata": {},
   "outputs": [
    {
     "data": {
      "image/png": "[encoded data removed]",
      "text/plain": [
       "<Figure size 432x288 with 2 Axes>"
      ]
     },
     "metadata": {
      "needs_background": "light"
     },
     "output_type": "display_data"
    }
   ],
   "source": [
    "plot_confusion_matrix_heatmap(y_test, pred)"
   ]
  },
  {
   "cell_type": "code",
   "execution_count": 16,
   "metadata": {},
   "outputs": [
    {
     "data": {
      "text/html": [
       "<div>\n",
       "<style scoped>\n",
       "    .dataframe tbody tr th:only-of-type {\n",
       "        vertical-align: middle;\n",
       "    }\n",
       "\n",
       "    .dataframe tbody tr th {\n",
       "        vertical-align: top;\n",
       "    }\n",
       "\n",
       "    .dataframe thead th {\n",
       "        text-align: right;\n",
       "    }\n",
       "</style>\n",
       "<table border=\"1\" class=\"dataframe\">\n",
       "  <thead>\n",
       "    <tr style=\"text-align: right;\">\n",
       "      <th></th>\n",
       "      <th>precision</th>\n",
       "      <th>recall</th>\n",
       "      <th>f1-score</th>\n",
       "      <th>auc</th>\n",
       "      <th>support</th>\n",
       "      <th>support (%)</th>\n",
       "    </tr>\n",
       "  </thead>\n",
       "  <tbody>\n",
       "    <tr>\n",
       "      <th>1</th>\n",
       "      <td>0.706311</td>\n",
       "      <td>0.661364</td>\n",
       "      <td>0.683099</td>\n",
       "      <td>0.920271</td>\n",
       "      <td>440</td>\n",
       "      <td>0.145503</td>\n",
       "    </tr>\n",
       "    <tr>\n",
       "      <th>2</th>\n",
       "      <td>0.733129</td>\n",
       "      <td>0.534676</td>\n",
       "      <td>0.61837</td>\n",
       "      <td>0.879207</td>\n",
       "      <td>447</td>\n",
       "      <td>0.147817</td>\n",
       "    </tr>\n",
       "    <tr>\n",
       "      <th>3</th>\n",
       "      <td>0.803970</td>\n",
       "      <td>0.771429</td>\n",
       "      <td>0.787363</td>\n",
       "      <td>0.954022</td>\n",
       "      <td>420</td>\n",
       "      <td>0.138889</td>\n",
       "    </tr>\n",
       "    <tr>\n",
       "      <th>4</th>\n",
       "      <td>0.900826</td>\n",
       "      <td>0.95614</td>\n",
       "      <td>0.92766</td>\n",
       "      <td>0.994442</td>\n",
       "      <td>456</td>\n",
       "      <td>0.150794</td>\n",
       "    </tr>\n",
       "    <tr>\n",
       "      <th>5</th>\n",
       "      <td>0.832990</td>\n",
       "      <td>0.948357</td>\n",
       "      <td>0.886937</td>\n",
       "      <td>0.992346</td>\n",
       "      <td>426</td>\n",
       "      <td>0.140873</td>\n",
       "    </tr>\n",
       "    <tr>\n",
       "      <th>6</th>\n",
       "      <td>0.777011</td>\n",
       "      <td>0.830467</td>\n",
       "      <td>0.80285</td>\n",
       "      <td>0.967635</td>\n",
       "      <td>407</td>\n",
       "      <td>0.13459</td>\n",
       "    </tr>\n",
       "    <tr>\n",
       "      <th>7</th>\n",
       "      <td>0.858038</td>\n",
       "      <td>0.96028</td>\n",
       "      <td>0.906284</td>\n",
       "      <td>0.991159</td>\n",
       "      <td>428</td>\n",
       "      <td>0.141534</td>\n",
       "    </tr>\n",
       "    <tr>\n",
       "      <th>macro</th>\n",
       "      <td>0.801754</td>\n",
       "      <td>0.808959</td>\n",
       "      <td>0.801795</td>\n",
       "      <td></td>\n",
       "      <td>3024</td>\n",
       "      <td></td>\n",
       "    </tr>\n",
       "    <tr>\n",
       "      <th>micro</th>\n",
       "      <td>0.807870</td>\n",
       "      <td>0.80787</td>\n",
       "      <td>0.80787</td>\n",
       "      <td></td>\n",
       "      <td></td>\n",
       "      <td></td>\n",
       "    </tr>\n",
       "    <tr>\n",
       "      <th>weighted</th>\n",
       "      <td>0.802006</td>\n",
       "      <td>0.80787</td>\n",
       "      <td>0.801311</td>\n",
       "      <td></td>\n",
       "      <td></td>\n",
       "      <td></td>\n",
       "    </tr>\n",
       "    <tr>\n",
       "      <th>accuracy</th>\n",
       "      <td>0.807870</td>\n",
       "      <td></td>\n",
       "      <td></td>\n",
       "      <td></td>\n",
       "      <td></td>\n",
       "      <td></td>\n",
       "    </tr>\n",
       "  </tbody>\n",
       "</table>\n",
       "</div>"
      ],
      "text/plain": [
       "          precision    recall  f1-score       auc support support (%)\n",
       "1          0.706311  0.661364  0.683099  0.920271     440    0.145503\n",
       "2          0.733129  0.534676   0.61837  0.879207     447    0.147817\n",
       "3          0.803970  0.771429  0.787363  0.954022     420    0.138889\n",
       "4          0.900826   0.95614   0.92766  0.994442     456    0.150794\n",
       "5          0.832990  0.948357  0.886937  0.992346     426    0.140873\n",
       "6          0.777011  0.830467   0.80285  0.967635     407     0.13459\n",
       "7          0.858038   0.96028  0.906284  0.991159     428    0.141534\n",
       "macro      0.801754  0.808959  0.801795              3024            \n",
       "micro      0.807870   0.80787   0.80787                              \n",
       "weighted   0.802006   0.80787  0.801311                              \n",
       "accuracy   0.807870                                                  "
      ]
     },
     "execution_count": 16,
     "metadata": {},
     "output_type": "execute_result"
    }
   ],
   "source": [
    "generate_classification_report(y_test, pred, y_pred_scored)"
   ]
  },
  {
   "cell_type": "markdown",
   "metadata": {},
   "source": [
    "**CatBoost**"
   ]
  },
  {
   "cell_type": "code",
   "execution_count": 17,
   "metadata": {},
   "outputs": [],
   "source": [
    "import catboost\n",
    "# print(catboost.__version__)\n",
    "from catboost import CatBoostClassifier"
   ]
  },
  {
   "cell_type": "code",
   "execution_count": 18,
   "metadata": {},
   "outputs": [],
   "source": [
    "# метрика 'MultiClass' <!-- ![image.png](attachment:5ad94b38-4bda-4fa0-af10-8f3b7ea74396.png)"
   ]
  },
  {
   "cell_type": "code",
   "execution_count": 19,
   "metadata": {},
   "outputs": [
    {
     "data": {
      "application/vnd.jupyter.widget-view+json": {
       "model_id": "cfae4252869c40ee89130a9dd70e6991",
       "version_major": 2,
       "version_minor": 0
      },
      "text/plain": [
       "MetricVisualizer(layout=Layout(align_self='stretch', height='500px'))"
      ]
     },
     "metadata": {},
     "output_type": "display_data"
    },
    {
     "name": "stdout",
     "output_type": "stream",
     "text": [
      "accuracy : 0.8525132275132276\n",
      "Wall time: 16.8 s\n"
     ]
    }
   ],
   "source": [
    "%%time\n",
    "ctb = CatBoostClassifier(iterations=1000, loss_function = 'MultiClass')\n",
    "ctb.fit(X_train, y_train, verbose=False, plot=True)\n",
    "pred = ctb.predict(X_test)\n",
    "y_pred_scored = ctb.predict_proba(X_test)\n",
    "print(\"accuracy :\", ctb.score(X_test, y_test))"
   ]
  },
  {
   "cell_type": "code",
   "execution_count": null,
   "metadata": {},
   "outputs": [],
   "source": []
  },
  {
   "cell_type": "code",
   "execution_count": 20,
   "metadata": {},
   "outputs": [
    {
     "data": {
      "text/plain": [
       "array([[338,  71,   0,   0,   5,   1,  25],\n",
       "       [ 89, 299,  12,   0,  33,   7,   7],\n",
       "       [  0,   0, 343,  15,   6,  56,   0],\n",
       "       [  0,   0,   9, 441,   0,   6,   0],\n",
       "       [  0,  19,  10,   0, 388,   9,   0],\n",
       "       [  2,   2,  32,   8,   2, 361,   0],\n",
       "       [ 19,   1,   0,   0,   0,   0, 408]], dtype=int64)"
      ]
     },
     "execution_count": 20,
     "metadata": {},
     "output_type": "execute_result"
    }
   ],
   "source": [
    "confusion_matrix(y_test, pred)"
   ]
  },
  {
   "cell_type": "code",
   "execution_count": 21,
   "metadata": {},
   "outputs": [
    {
     "data": {
      "image/png": "[encoded data removed]",
      "text/plain": [
       "<Figure size 432x288 with 2 Axes>"
      ]
     },
     "metadata": {
      "needs_background": "light"
     },
     "output_type": "display_data"
    }
   ],
   "source": [
    "plot_confusion_matrix_heatmap(y_test, pred)"
   ]
  },
  {
   "cell_type": "code",
   "execution_count": 22,
   "metadata": {},
   "outputs": [],
   "source": [
    "pred = pred.ravel()"
   ]
  },
  {
   "cell_type": "code",
   "execution_count": 23,
   "metadata": {},
   "outputs": [
    {
     "data": {
      "text/html": [
       "<div>\n",
       "<style scoped>\n",
       "    .dataframe tbody tr th:only-of-type {\n",
       "        vertical-align: middle;\n",
       "    }\n",
       "\n",
       "    .dataframe tbody tr th {\n",
       "        vertical-align: top;\n",
       "    }\n",
       "\n",
       "    .dataframe thead th {\n",
       "        text-align: right;\n",
       "    }\n",
       "</style>\n",
       "<table border=\"1\" class=\"dataframe\">\n",
       "  <thead>\n",
       "    <tr style=\"text-align: right;\">\n",
       "      <th></th>\n",
       "      <th>precision</th>\n",
       "      <th>recall</th>\n",
       "      <th>f1-score</th>\n",
       "      <th>auc</th>\n",
       "      <th>support</th>\n",
       "      <th>support (%)</th>\n",
       "    </tr>\n",
       "  </thead>\n",
       "  <tbody>\n",
       "    <tr>\n",
       "      <th>1</th>\n",
       "      <td>0.754464</td>\n",
       "      <td>0.768182</td>\n",
       "      <td>0.761261</td>\n",
       "      <td>0.970807</td>\n",
       "      <td>440</td>\n",
       "      <td>0.145503</td>\n",
       "    </tr>\n",
       "    <tr>\n",
       "      <th>2</th>\n",
       "      <td>0.762755</td>\n",
       "      <td>0.668904</td>\n",
       "      <td>0.712753</td>\n",
       "      <td>0.955936</td>\n",
       "      <td>447</td>\n",
       "      <td>0.147817</td>\n",
       "    </tr>\n",
       "    <tr>\n",
       "      <th>3</th>\n",
       "      <td>0.844828</td>\n",
       "      <td>0.816667</td>\n",
       "      <td>0.830508</td>\n",
       "      <td>0.983331</td>\n",
       "      <td>420</td>\n",
       "      <td>0.138889</td>\n",
       "    </tr>\n",
       "    <tr>\n",
       "      <th>4</th>\n",
       "      <td>0.950431</td>\n",
       "      <td>0.967105</td>\n",
       "      <td>0.958696</td>\n",
       "      <td>0.99847</td>\n",
       "      <td>456</td>\n",
       "      <td>0.150794</td>\n",
       "    </tr>\n",
       "    <tr>\n",
       "      <th>5</th>\n",
       "      <td>0.894009</td>\n",
       "      <td>0.910798</td>\n",
       "      <td>0.902326</td>\n",
       "      <td>0.994562</td>\n",
       "      <td>426</td>\n",
       "      <td>0.140873</td>\n",
       "    </tr>\n",
       "    <tr>\n",
       "      <th>6</th>\n",
       "      <td>0.820455</td>\n",
       "      <td>0.886978</td>\n",
       "      <td>0.85242</td>\n",
       "      <td>0.987199</td>\n",
       "      <td>407</td>\n",
       "      <td>0.13459</td>\n",
       "    </tr>\n",
       "    <tr>\n",
       "      <th>7</th>\n",
       "      <td>0.927273</td>\n",
       "      <td>0.953271</td>\n",
       "      <td>0.940092</td>\n",
       "      <td>0.997162</td>\n",
       "      <td>428</td>\n",
       "      <td>0.141534</td>\n",
       "    </tr>\n",
       "    <tr>\n",
       "      <th>macro</th>\n",
       "      <td>0.850602</td>\n",
       "      <td>0.853129</td>\n",
       "      <td>0.851151</td>\n",
       "      <td></td>\n",
       "      <td>3024</td>\n",
       "      <td></td>\n",
       "    </tr>\n",
       "    <tr>\n",
       "      <th>micro</th>\n",
       "      <td>0.852513</td>\n",
       "      <td>0.852513</td>\n",
       "      <td>0.852513</td>\n",
       "      <td></td>\n",
       "      <td></td>\n",
       "      <td></td>\n",
       "    </tr>\n",
       "    <tr>\n",
       "      <th>weighted</th>\n",
       "      <td>0.850789</td>\n",
       "      <td>0.852513</td>\n",
       "      <td>0.850932</td>\n",
       "      <td></td>\n",
       "      <td></td>\n",
       "      <td></td>\n",
       "    </tr>\n",
       "    <tr>\n",
       "      <th>accuracy</th>\n",
       "      <td>0.852513</td>\n",
       "      <td></td>\n",
       "      <td></td>\n",
       "      <td></td>\n",
       "      <td></td>\n",
       "      <td></td>\n",
       "    </tr>\n",
       "  </tbody>\n",
       "</table>\n",
       "</div>"
      ],
      "text/plain": [
       "          precision    recall  f1-score       auc support support (%)\n",
       "1          0.754464  0.768182  0.761261  0.970807     440    0.145503\n",
       "2          0.762755  0.668904  0.712753  0.955936     447    0.147817\n",
       "3          0.844828  0.816667  0.830508  0.983331     420    0.138889\n",
       "4          0.950431  0.967105  0.958696   0.99847     456    0.150794\n",
       "5          0.894009  0.910798  0.902326  0.994562     426    0.140873\n",
       "6          0.820455  0.886978   0.85242  0.987199     407     0.13459\n",
       "7          0.927273  0.953271  0.940092  0.997162     428    0.141534\n",
       "macro      0.850602  0.853129  0.851151              3024            \n",
       "micro      0.852513  0.852513  0.852513                              \n",
       "weighted   0.850789  0.852513  0.850932                              \n",
       "accuracy   0.852513                                                  "
      ]
     },
     "execution_count": 23,
     "metadata": {},
     "output_type": "execute_result"
    }
   ],
   "source": [
    "generate_classification_report(y_test, pred,y_pred_scored)"
   ]
  },
  {
   "cell_type": "code",
   "execution_count": 24,
   "metadata": {},
   "outputs": [],
   "source": [
    "# for key,value in ctb.get_all_params().items():\n",
    "#     print('{}, {}'.format(key,value))"
   ]
  },
  {
   "cell_type": "code",
   "execution_count": 25,
   "metadata": {},
   "outputs": [],
   "source": [
    "# accuracy_score(y_test, pred)"
   ]
  },
  {
   "cell_type": "markdown",
   "metadata": {},
   "source": [
    "**XGBoost**"
   ]
  },
  {
   "cell_type": "code",
   "execution_count": 26,
   "metadata": {},
   "outputs": [],
   "source": [
    "# import xgboost\n",
    "# # from xgboost import XGBoostClassifier\n",
    "# from xgboost import XGBClassifier\n"
   ]
  },
  {
   "cell_type": "code",
   "execution_count": 27,
   "metadata": {},
   "outputs": [],
   "source": [
    "# xg = XGBClassifier(n_estimators = 100)\n",
    "# xg.fit(X_train, y_train)\n",
    "# pred = xg.predict(X_test)"
   ]
  },
  {
   "cell_type": "code",
   "execution_count": 31,
   "metadata": {},
   "outputs": [],
   "source": [
    "# accuracy_score(y_test, pred)"
   ]
  },
  {
   "cell_type": "markdown",
   "metadata": {},
   "source": [
    "**TabNet**"
   ]
  },
  {
   "cell_type": "code",
   "execution_count": 15,
   "metadata": {},
   "outputs": [
    {
     "name": "stdout",
     "output_type": "stream",
     "text": [
      "Collecting torch\n",
      "  Downloading torch-1.9.0-cp38-cp38-win_amd64.whl (222.0 MB)\n",
      "Requirement already satisfied: typing-extensions in c:\\programdata\\anaconda3\\lib\\site-packages (from torch) (3.7.4.2)\n",
      "Installing collected packages: torch\n",
      "Successfully installed torch-1.9.0\n"
     ]
    }
   ],
   "source": [
    "!pip install torch"
   ]
  },
  {
   "cell_type": "code",
   "execution_count": 16,
   "metadata": {},
   "outputs": [],
   "source": [
    "import torch"
   ]
  },
  {
   "cell_type": "code",
   "execution_count": null,
   "metadata": {},
   "outputs": [],
   "source": []
  }
 ],
 "metadata": {
  "kernelspec": {
   "display_name": "Python 3",
   "language": "python",
   "name": "python3"
  },
  "language_info": {
   "codemirror_mode": {
    "name": "ipython",
    "version": 3
   },
   "file_extension": ".py",
   "mimetype": "text/x-python",
   "name": "python",
   "nbconvert_exporter": "python",
   "pygments_lexer": "ipython3",
   "version": "3.8.3"
  }
 },
 "nbformat": 4,
 "nbformat_minor": 4
}
