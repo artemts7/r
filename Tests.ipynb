{
  "nbformat": 4,
  "nbformat_minor": 0,
  "metadata": {
    "kernelspec": {
      "display_name": "Python 3",
      "language": "python",
      "name": "python3"
    },
    "language_info": {
      "codemirror_mode": {
        "name": "ipython",
        "version": 3
      },
      "file_extension": ".py",
      "mimetype": "text/x-python",
      "name": "python",
      "nbconvert_exporter": "python",
      "pygments_lexer": "ipython3",
      "version": "3.7.4"
    },
    "colab": {
      "name": "Sber_test (1).ipynb",
      "provenance": [],
      "collapsed_sections": []
    },
    "accelerator": "GPU"
  },
  "cells": [
    {
      "cell_type": "code",
      "metadata": {
        "id": "0ztatNQwZsbt"
      },
      "source": [
        "import os\n",
        "import torch\n",
        "import tarfile\n",
        "import torchvision\n",
        "import torch.nn as nn\n",
        "from PIL import Image\n",
        "import matplotlib.pyplot as plt\n",
        "import torch.nn.functional as F\n",
        "from torchvision import transforms\n",
        "from torchvision.utils import make_grid\n",
        "from torch.utils.data import random_split\n",
        "from torchvision.transforms import ToTensor\n",
        "from torchvision.datasets import ImageFolder\n",
        "from torch.utils.data import Dataset, DataLoader\n",
        "from torchvision.datasets.utils import download_url\n",
        "import seaborn as sns\n",
        "import pandas as pd\n",
        "import numpy as np\n",
        "import matplotlib.pyplot as plt\n",
        "from tqdm import tqdm, trange\n",
        "import imageio\n",
        "from pathlib import Path\n",
        "import skimage\n",
        "from skimage import io\n",
        "from IPython.display import clear_output\n",
        "# import efficientnet_pytorch\n",
        "# from efficientnet_pytorch import EfficientNet"
      ],
      "execution_count": 4,
      "outputs": []
    },
    {
      "cell_type": "code",
      "metadata": {
        "id": "vBS0NvSIdGKB"
      },
      "source": [
        "# 4/1AY0e-g6BwSDQqELiUtGjpEbkmxY0SEpEqOA-rd7DzaKnarZKe2r2Gehg2gE"
      ],
      "execution_count": 5,
      "outputs": []
    },
    {
      "cell_type": "code",
      "metadata": {
        "colab": {
          "base_uri": "https://localhost:8080/"
        },
        "id": "h_JzVTQeaeE3",
        "outputId": "7f344c98-d97f-4601-9926-2aca6f241244"
      },
      "source": [
        "from google.colab import drive\n",
        "drive.mount('/content/drive')\n"
      ],
      "execution_count": 6,
      "outputs": [
        {
          "output_type": "stream",
          "text": [
            "Drive already mounted at /content/drive; to attempt to forcibly remount, call drive.mount(\"/content/drive\", force_remount=True).\n"
          ],
          "name": "stdout"
        }
      ]
    },
    {
      "cell_type": "markdown",
      "metadata": {
        "id": "N8MN3RFYblzY"
      },
      "source": [
        "# План работы\n",
        "1) Предобработка данных(поизучать данные, посмотреть распределение классов, сделать более удобные метки)\n",
        "\n",
        "2) Создание датасета(добавление аугментации, нормализации, изменение размеров для моделей)\n",
        "\n",
        "3)Построение моделей(построить несколько моделей классификации, обучить, выбрать лучшую)"
      ]
    },
    {
      "cell_type": "markdown",
      "metadata": {
        "id": "nABwdoynUoLf"
      },
      "source": [
        "#1. Предобработка данных"
      ]
    },
    {
      "cell_type": "markdown",
      "metadata": {
        "id": "Aym4J7zcx4O9"
      },
      "source": [
        "Посмотрим, что представляет собой датасет"
      ]
    },
    {
      "cell_type": "code",
      "metadata": {
        "colab": {
          "base_uri": "https://localhost:8080/",
          "height": 402
        },
        "id": "Qlkw3EfKZsbu",
        "outputId": "f5202b2a-4c6f-4423-e575-d312d14f354d"
      },
      "source": [
        "df = pd.read_csv('/content/drive/My Drive/sber/imagewoof2/noisy_imagewoof.csv', sep = ',')\n",
        "df"
      ],
      "execution_count": 7,
      "outputs": [
        {
          "output_type": "execute_result",
          "data": {
            "text/html": [
              "<div>\n",
              "<style scoped>\n",
              "    .dataframe tbody tr th:only-of-type {\n",
              "        vertical-align: middle;\n",
              "    }\n",
              "\n",
              "    .dataframe tbody tr th {\n",
              "        vertical-align: top;\n",
              "    }\n",
              "\n",
              "    .dataframe thead th {\n",
              "        text-align: right;\n",
              "    }\n",
              "</style>\n",
              "<table border=\"1\" class=\"dataframe\">\n",
              "  <thead>\n",
              "    <tr style=\"text-align: right;\">\n",
              "      <th></th>\n",
              "      <th>path</th>\n",
              "      <th>noisy_labels_0</th>\n",
              "      <th>noisy_labels_1</th>\n",
              "      <th>noisy_labels_5</th>\n",
              "      <th>noisy_labels_25</th>\n",
              "      <th>noisy_labels_50</th>\n",
              "      <th>is_valid</th>\n",
              "    </tr>\n",
              "  </thead>\n",
              "  <tbody>\n",
              "    <tr>\n",
              "      <th>0</th>\n",
              "      <td>train/n02115641/n02115641_3995.JPEG</td>\n",
              "      <td>n02115641</td>\n",
              "      <td>n02115641</td>\n",
              "      <td>n02115641</td>\n",
              "      <td>n02115641</td>\n",
              "      <td>n02115641</td>\n",
              "      <td>False</td>\n",
              "    </tr>\n",
              "    <tr>\n",
              "      <th>1</th>\n",
              "      <td>train/n02115641/n02115641_843.JPEG</td>\n",
              "      <td>n02115641</td>\n",
              "      <td>n02115641</td>\n",
              "      <td>n02105641</td>\n",
              "      <td>n02115641</td>\n",
              "      <td>n02088364</td>\n",
              "      <td>False</td>\n",
              "    </tr>\n",
              "    <tr>\n",
              "      <th>2</th>\n",
              "      <td>train/n02115641/n02115641_2953.JPEG</td>\n",
              "      <td>n02115641</td>\n",
              "      <td>n02115641</td>\n",
              "      <td>n02115641</td>\n",
              "      <td>n02111889</td>\n",
              "      <td>n02099601</td>\n",
              "      <td>False</td>\n",
              "    </tr>\n",
              "    <tr>\n",
              "      <th>3</th>\n",
              "      <td>train/n02115641/n02115641_6458.JPEG</td>\n",
              "      <td>n02115641</td>\n",
              "      <td>n02115641</td>\n",
              "      <td>n02115641</td>\n",
              "      <td>n02093754</td>\n",
              "      <td>n02115641</td>\n",
              "      <td>False</td>\n",
              "    </tr>\n",
              "    <tr>\n",
              "      <th>4</th>\n",
              "      <td>train/n02115641/n02115641_19414.JPEG</td>\n",
              "      <td>n02115641</td>\n",
              "      <td>n02115641</td>\n",
              "      <td>n02115641</td>\n",
              "      <td>n02115641</td>\n",
              "      <td>n02088364</td>\n",
              "      <td>False</td>\n",
              "    </tr>\n",
              "    <tr>\n",
              "      <th>...</th>\n",
              "      <td>...</td>\n",
              "      <td>...</td>\n",
              "      <td>...</td>\n",
              "      <td>...</td>\n",
              "      <td>...</td>\n",
              "      <td>...</td>\n",
              "      <td>...</td>\n",
              "    </tr>\n",
              "    <tr>\n",
              "      <th>12949</th>\n",
              "      <td>val/n02089973/n02089973_9351.JPEG</td>\n",
              "      <td>n02089973</td>\n",
              "      <td>n02089973</td>\n",
              "      <td>n02089973</td>\n",
              "      <td>n02089973</td>\n",
              "      <td>n02089973</td>\n",
              "      <td>True</td>\n",
              "    </tr>\n",
              "    <tr>\n",
              "      <th>12950</th>\n",
              "      <td>val/n02089973/n02089973_1241.JPEG</td>\n",
              "      <td>n02089973</td>\n",
              "      <td>n02089973</td>\n",
              "      <td>n02089973</td>\n",
              "      <td>n02089973</td>\n",
              "      <td>n02089973</td>\n",
              "      <td>True</td>\n",
              "    </tr>\n",
              "    <tr>\n",
              "      <th>12951</th>\n",
              "      <td>val/n02089973/n02089973_4702.JPEG</td>\n",
              "      <td>n02089973</td>\n",
              "      <td>n02089973</td>\n",
              "      <td>n02089973</td>\n",
              "      <td>n02089973</td>\n",
              "      <td>n02089973</td>\n",
              "      <td>True</td>\n",
              "    </tr>\n",
              "    <tr>\n",
              "      <th>12952</th>\n",
              "      <td>val/n02089973/n02089973_1040.JPEG</td>\n",
              "      <td>n02089973</td>\n",
              "      <td>n02089973</td>\n",
              "      <td>n02089973</td>\n",
              "      <td>n02089973</td>\n",
              "      <td>n02089973</td>\n",
              "      <td>True</td>\n",
              "    </tr>\n",
              "    <tr>\n",
              "      <th>12953</th>\n",
              "      <td>val/n02089973/n02089973_9591.JPEG</td>\n",
              "      <td>n02089973</td>\n",
              "      <td>n02089973</td>\n",
              "      <td>n02089973</td>\n",
              "      <td>n02089973</td>\n",
              "      <td>n02089973</td>\n",
              "      <td>True</td>\n",
              "    </tr>\n",
              "  </tbody>\n",
              "</table>\n",
              "<p>12954 rows × 7 columns</p>\n",
              "</div>"
            ],
            "text/plain": [
              "                                       path  ... is_valid\n",
              "0       train/n02115641/n02115641_3995.JPEG  ...    False\n",
              "1        train/n02115641/n02115641_843.JPEG  ...    False\n",
              "2       train/n02115641/n02115641_2953.JPEG  ...    False\n",
              "3       train/n02115641/n02115641_6458.JPEG  ...    False\n",
              "4      train/n02115641/n02115641_19414.JPEG  ...    False\n",
              "...                                     ...  ...      ...\n",
              "12949     val/n02089973/n02089973_9351.JPEG  ...     True\n",
              "12950     val/n02089973/n02089973_1241.JPEG  ...     True\n",
              "12951     val/n02089973/n02089973_4702.JPEG  ...     True\n",
              "12952     val/n02089973/n02089973_1040.JPEG  ...     True\n",
              "12953     val/n02089973/n02089973_9591.JPEG  ...     True\n",
              "\n",
              "[12954 rows x 7 columns]"
            ]
          },
          "metadata": {
            "tags": []
          },
          "execution_count": 7
        }
      ]
    },
    {
      "cell_type": "code",
      "metadata": {
        "id": "pvbSo63mZsbv"
      },
      "source": [
        "df['path'] = '/content/drive/My Drive/sber/imagewoof2/' + df['path']"
      ],
      "execution_count": 8,
      "outputs": []
    },
    {
      "cell_type": "markdown",
      "metadata": {
        "id": "-PbGvcPGyD0T"
      },
      "source": [
        "Мы видим, что таргеты имеют тип str, найдём все уникальные значения и перезапишем их числами от [0..n]"
      ]
    },
    {
      "cell_type": "code",
      "metadata": {
        "colab": {
          "base_uri": "https://localhost:8080/",
          "height": 195
        },
        "id": "l2EebTmeZsbw",
        "outputId": "b8fc5a79-9ee5-474f-d93d-2bca0afd7214"
      },
      "source": [
        "df.noisy_labels_0.unique()\n",
        "idx1 = {} #словарь для замены имени таргета\n",
        "for i in range(len(df.noisy_labels_0.unique())):\n",
        "    idx1[df.noisy_labels_0.unique()[i]] = i\n",
        "idx2 = {v: k for k, v in idx1.items()}\n",
        "#заменяем\n",
        "df['noisy_labels_0'].replace(idx1, inplace=True)\n",
        "df['noisy_labels_1'].replace(idx1, inplace=True)\n",
        "df['noisy_labels_5'].replace(idx1, inplace=True)\n",
        "df['noisy_labels_25'].replace(idx1, inplace=True)\n",
        "df['noisy_labels_50'].replace(idx1, inplace=True)\n",
        "df.head()"
      ],
      "execution_count": 9,
      "outputs": [
        {
          "output_type": "execute_result",
          "data": {
            "text/html": [
              "<div>\n",
              "<style scoped>\n",
              "    .dataframe tbody tr th:only-of-type {\n",
              "        vertical-align: middle;\n",
              "    }\n",
              "\n",
              "    .dataframe tbody tr th {\n",
              "        vertical-align: top;\n",
              "    }\n",
              "\n",
              "    .dataframe thead th {\n",
              "        text-align: right;\n",
              "    }\n",
              "</style>\n",
              "<table border=\"1\" class=\"dataframe\">\n",
              "  <thead>\n",
              "    <tr style=\"text-align: right;\">\n",
              "      <th></th>\n",
              "      <th>path</th>\n",
              "      <th>noisy_labels_0</th>\n",
              "      <th>noisy_labels_1</th>\n",
              "      <th>noisy_labels_5</th>\n",
              "      <th>noisy_labels_25</th>\n",
              "      <th>noisy_labels_50</th>\n",
              "      <th>is_valid</th>\n",
              "    </tr>\n",
              "  </thead>\n",
              "  <tbody>\n",
              "    <tr>\n",
              "      <th>0</th>\n",
              "      <td>/content/drive/My Drive/sber/imagewoof2/train/...</td>\n",
              "      <td>0</td>\n",
              "      <td>0</td>\n",
              "      <td>0</td>\n",
              "      <td>0</td>\n",
              "      <td>0</td>\n",
              "      <td>False</td>\n",
              "    </tr>\n",
              "    <tr>\n",
              "      <th>1</th>\n",
              "      <td>/content/drive/My Drive/sber/imagewoof2/train/...</td>\n",
              "      <td>0</td>\n",
              "      <td>0</td>\n",
              "      <td>4</td>\n",
              "      <td>0</td>\n",
              "      <td>2</td>\n",
              "      <td>False</td>\n",
              "    </tr>\n",
              "    <tr>\n",
              "      <th>2</th>\n",
              "      <td>/content/drive/My Drive/sber/imagewoof2/train/...</td>\n",
              "      <td>0</td>\n",
              "      <td>0</td>\n",
              "      <td>0</td>\n",
              "      <td>5</td>\n",
              "      <td>6</td>\n",
              "      <td>False</td>\n",
              "    </tr>\n",
              "    <tr>\n",
              "      <th>3</th>\n",
              "      <td>/content/drive/My Drive/sber/imagewoof2/train/...</td>\n",
              "      <td>0</td>\n",
              "      <td>0</td>\n",
              "      <td>0</td>\n",
              "      <td>8</td>\n",
              "      <td>0</td>\n",
              "      <td>False</td>\n",
              "    </tr>\n",
              "    <tr>\n",
              "      <th>4</th>\n",
              "      <td>/content/drive/My Drive/sber/imagewoof2/train/...</td>\n",
              "      <td>0</td>\n",
              "      <td>0</td>\n",
              "      <td>0</td>\n",
              "      <td>0</td>\n",
              "      <td>2</td>\n",
              "      <td>False</td>\n",
              "    </tr>\n",
              "  </tbody>\n",
              "</table>\n",
              "</div>"
            ],
            "text/plain": [
              "                                                path  ...  is_valid\n",
              "0  /content/drive/My Drive/sber/imagewoof2/train/...  ...     False\n",
              "1  /content/drive/My Drive/sber/imagewoof2/train/...  ...     False\n",
              "2  /content/drive/My Drive/sber/imagewoof2/train/...  ...     False\n",
              "3  /content/drive/My Drive/sber/imagewoof2/train/...  ...     False\n",
              "4  /content/drive/My Drive/sber/imagewoof2/train/...  ...     False\n",
              "\n",
              "[5 rows x 7 columns]"
            ]
          },
          "metadata": {
            "tags": []
          },
          "execution_count": 9
        }
      ]
    },
    {
      "cell_type": "code",
      "metadata": {
        "id": "0-6FGEYfihaC"
      },
      "source": [
        ""
      ],
      "execution_count": 9,
      "outputs": []
    },
    {
      "cell_type": "markdown",
      "metadata": {
        "id": "j064xHxkgLdr"
      },
      "source": [
        "## Добавим в df столбец \"test\", отвечающий за train = 0, validation = 1, test =2 "
      ]
    },
    {
      "cell_type": "code",
      "metadata": {
        "colab": {
          "base_uri": "https://localhost:8080/"
        },
        "id": "aTahBTJHWNrs",
        "outputId": "f72a85d5-6a0e-4e59-a9c0-c86e63d05b2d"
      },
      "source": [
        "df['test'] = [0] * 12954\n",
        "df.test[df.is_valid == True] = 1\n",
        "for i in df.index[df.is_valid == True][::4]:\n",
        "  df.test[i] = 2\n"
      ],
      "execution_count": 10,
      "outputs": [
        {
          "output_type": "stream",
          "text": [
            "/usr/local/lib/python3.7/dist-packages/ipykernel_launcher.py:2: SettingWithCopyWarning: \n",
            "A value is trying to be set on a copy of a slice from a DataFrame\n",
            "\n",
            "See the caveats in the documentation: https://pandas.pydata.org/pandas-docs/stable/user_guide/indexing.html#returning-a-view-versus-a-copy\n",
            "  \n",
            "/usr/local/lib/python3.7/dist-packages/ipykernel_launcher.py:4: SettingWithCopyWarning: \n",
            "A value is trying to be set on a copy of a slice from a DataFrame\n",
            "\n",
            "See the caveats in the documentation: https://pandas.pydata.org/pandas-docs/stable/user_guide/indexing.html#returning-a-view-versus-a-copy\n",
            "  after removing the cwd from sys.path.\n"
          ],
          "name": "stderr"
        }
      ]
    },
    {
      "cell_type": "code",
      "metadata": {
        "id": "QlYfFSExWbIQ"
      },
      "source": [
        ""
      ],
      "execution_count": 10,
      "outputs": []
    },
    {
      "cell_type": "code",
      "metadata": {
        "colab": {
          "base_uri": "https://localhost:8080/",
          "height": 195
        },
        "id": "vKQ-BchuWjEY",
        "outputId": "84742d45-3beb-49d8-c402-9a43e3a1e9bb"
      },
      "source": [
        "df.head()"
      ],
      "execution_count": 11,
      "outputs": [
        {
          "output_type": "execute_result",
          "data": {
            "text/html": [
              "<div>\n",
              "<style scoped>\n",
              "    .dataframe tbody tr th:only-of-type {\n",
              "        vertical-align: middle;\n",
              "    }\n",
              "\n",
              "    .dataframe tbody tr th {\n",
              "        vertical-align: top;\n",
              "    }\n",
              "\n",
              "    .dataframe thead th {\n",
              "        text-align: right;\n",
              "    }\n",
              "</style>\n",
              "<table border=\"1\" class=\"dataframe\">\n",
              "  <thead>\n",
              "    <tr style=\"text-align: right;\">\n",
              "      <th></th>\n",
              "      <th>path</th>\n",
              "      <th>noisy_labels_0</th>\n",
              "      <th>noisy_labels_1</th>\n",
              "      <th>noisy_labels_5</th>\n",
              "      <th>noisy_labels_25</th>\n",
              "      <th>noisy_labels_50</th>\n",
              "      <th>is_valid</th>\n",
              "      <th>test</th>\n",
              "    </tr>\n",
              "  </thead>\n",
              "  <tbody>\n",
              "    <tr>\n",
              "      <th>0</th>\n",
              "      <td>/content/drive/My Drive/sber/imagewoof2/train/...</td>\n",
              "      <td>0</td>\n",
              "      <td>0</td>\n",
              "      <td>0</td>\n",
              "      <td>0</td>\n",
              "      <td>0</td>\n",
              "      <td>False</td>\n",
              "      <td>0</td>\n",
              "    </tr>\n",
              "    <tr>\n",
              "      <th>1</th>\n",
              "      <td>/content/drive/My Drive/sber/imagewoof2/train/...</td>\n",
              "      <td>0</td>\n",
              "      <td>0</td>\n",
              "      <td>4</td>\n",
              "      <td>0</td>\n",
              "      <td>2</td>\n",
              "      <td>False</td>\n",
              "      <td>0</td>\n",
              "    </tr>\n",
              "    <tr>\n",
              "      <th>2</th>\n",
              "      <td>/content/drive/My Drive/sber/imagewoof2/train/...</td>\n",
              "      <td>0</td>\n",
              "      <td>0</td>\n",
              "      <td>0</td>\n",
              "      <td>5</td>\n",
              "      <td>6</td>\n",
              "      <td>False</td>\n",
              "      <td>0</td>\n",
              "    </tr>\n",
              "    <tr>\n",
              "      <th>3</th>\n",
              "      <td>/content/drive/My Drive/sber/imagewoof2/train/...</td>\n",
              "      <td>0</td>\n",
              "      <td>0</td>\n",
              "      <td>0</td>\n",
              "      <td>8</td>\n",
              "      <td>0</td>\n",
              "      <td>False</td>\n",
              "      <td>0</td>\n",
              "    </tr>\n",
              "    <tr>\n",
              "      <th>4</th>\n",
              "      <td>/content/drive/My Drive/sber/imagewoof2/train/...</td>\n",
              "      <td>0</td>\n",
              "      <td>0</td>\n",
              "      <td>0</td>\n",
              "      <td>0</td>\n",
              "      <td>2</td>\n",
              "      <td>False</td>\n",
              "      <td>0</td>\n",
              "    </tr>\n",
              "  </tbody>\n",
              "</table>\n",
              "</div>"
            ],
            "text/plain": [
              "                                                path  ...  test\n",
              "0  /content/drive/My Drive/sber/imagewoof2/train/...  ...     0\n",
              "1  /content/drive/My Drive/sber/imagewoof2/train/...  ...     0\n",
              "2  /content/drive/My Drive/sber/imagewoof2/train/...  ...     0\n",
              "3  /content/drive/My Drive/sber/imagewoof2/train/...  ...     0\n",
              "4  /content/drive/My Drive/sber/imagewoof2/train/...  ...     0\n",
              "\n",
              "[5 rows x 8 columns]"
            ]
          },
          "metadata": {
            "tags": []
          },
          "execution_count": 11
        }
      ]
    },
    {
      "cell_type": "code",
      "metadata": {
        "colab": {
          "base_uri": "https://localhost:8080/"
        },
        "id": "hMTi2UWFyxKD",
        "outputId": "e0350955-700e-47a6-bfdb-755f27ebdc33"
      },
      "source": [
        "(('train', df[df.test== 0].shape[0] / df.shape[0]), ('val',df[df.test== 1].shape[0] / df.shape[0]), ('test', df[df.test == 2].shape[0] / df.shape[0]))#смотрим долю объектов\n"
      ],
      "execution_count": 12,
      "outputs": [
        {
          "output_type": "execute_result",
          "data": {
            "text/plain": [
              "(('train', 0.6966960012351398),\n",
              " ('val', 0.22742010189902734),\n",
              " ('test', 0.07588389686583295))"
            ]
          },
          "metadata": {
            "tags": []
          },
          "execution_count": 12
        }
      ]
    },
    {
      "cell_type": "markdown",
      "metadata": {
        "id": "E2qlF6Qfz9K4"
      },
      "source": [
        "Рассмотрим насколько сбалансированы классы "
      ]
    },
    {
      "cell_type": "code",
      "metadata": {
        "colab": {
          "base_uri": "https://localhost:8080/",
          "height": 295
        },
        "id": "0VedvAS-z-ca",
        "outputId": "5de01e62-8867-45c0-b62d-42699b0dfc93"
      },
      "source": [
        "sns.countplot(x = df.noisy_labels_0, data=df)\n",
        "plt.xlabel('target')\n",
        "plt.title('all dataset')\n",
        "plt.show()"
      ],
      "execution_count": 13,
      "outputs": [
        {
          "output_type": "display_data",
          "data": {
            "image/png": "[encoded data removed]",
            "text/plain": [
              "<Figure size 432x288 with 1 Axes>"
            ]
          },
          "metadata": {
            "tags": [],
            "needs_background": "light"
          }
        }
      ]
    },
    {
      "cell_type": "code",
      "metadata": {
        "colab": {
          "base_uri": "https://localhost:8080/",
          "height": 295
        },
        "id": "99Eha_EUZsbw",
        "outputId": "e7a8e281-5158-466c-d2ef-f352ba84bc85"
      },
      "source": [
        "sns.countplot(x = df.noisy_labels_0[df.test == 0], data=df[df.test == 0])\n",
        "plt.xlabel('target')\n",
        "plt.title('train dataset')\n",
        "plt.show()"
      ],
      "execution_count": 14,
      "outputs": [
        {
          "output_type": "display_data",
          "data": {
            "image/png": "[encoded data removed]",
            "text/plain": [
              "<Figure size 432x288 with 1 Axes>"
            ]
          },
          "metadata": {
            "tags": [],
            "needs_background": "light"
          }
        }
      ]
    },
    {
      "cell_type": "code",
      "metadata": {
        "colab": {
          "base_uri": "https://localhost:8080/",
          "height": 295
        },
        "id": "eBbKiuOCZsbx",
        "outputId": "1d6629f3-504d-4a3c-b84c-a5284581f662"
      },
      "source": [
        "sns.countplot(x = df.noisy_labels_0[df.test == 1], data=df[df.test == 1])\n",
        "plt.xlabel('target')\n",
        "plt.title('validation dataset')\n",
        "plt.show()"
      ],
      "execution_count": 15,
      "outputs": [
        {
          "output_type": "display_data",
          "data": {
            "image/png": "[encoded data removed]",
            "text/plain": [
              "<Figure size 432x288 with 1 Axes>"
            ]
          },
          "metadata": {
            "tags": [],
            "needs_background": "light"
          }
        }
      ]
    },
    {
      "cell_type": "code",
      "metadata": {
        "colab": {
          "base_uri": "https://localhost:8080/"
        },
        "id": "RXUQjIM_Zsbx",
        "outputId": "656aea71-0551-4f67-845b-40bd19b1d56e"
      },
      "source": [
        "train_data = []\n",
        "test_data = []\n",
        "def process_train(df):\n",
        "    data = []\n",
        "    for image, i in zip(tqdm(df.path, desc = 'Train'), df.index):\n",
        "        item = {}\n",
        "        # img = io.imread(image) # считываем каждую картинку\n",
        "        img = Image.open(image) # считываем каждую картинку\n",
        "        img = transforms.functional.pil_to_tensor(img) \n",
        "        if img.shape[0]>3:\n",
        "            assert(img[:,:,3]!=255).sum()==0 \n",
        "        if img.shape[0]==1:\n",
        "          continue \n",
        "        item['img'] = img #добавляем картинку\n",
        "        item['target'] = df.noisy_labels_0[i] #добавляем таргет\n",
        "        data.append(item)\n",
        "    return data\n",
        "\n",
        "def process_test(df):\n",
        "    data = []\n",
        "    for image, i in zip(tqdm(df.path, desc = 'test|val'), df.index):\n",
        "        item = {}\n",
        "        # img = io.imread(image) # считываем каждую картинку\n",
        "        img = Image.open(image)# считываем каждую картинку\n",
        "        img = transforms.functional.pil_to_tensor(img)\n",
        "        if img.shape[0]>3:\n",
        "            assert(img[:,:,3]!=255).sum()==0 \n",
        "        if img.shape[0]==1:\n",
        "          continue\n",
        "        item['img'] = img #добавляем картинку\n",
        "        item['target'] = df.noisy_labels_0[i] #добавляем таргет\n",
        "        data.append(item)\n",
        "    return data\n",
        "# train_data = process_train(df[df.test == 0])\n",
        "# # valid_data = process_test(df[df.test == 1])\n",
        "# test_data = process_test(df[df.test == 2])\n",
        "train_data = process_train(df[df.is_valid == False])\n",
        "valid_data = process_test(df[df.is_valid == True])\n"
      ],
      "execution_count": 16,
      "outputs": [
        {
          "output_type": "stream",
          "text": [
            "\rTrain:   0%|          | 0/9025 [00:00<?, ?it/s]/usr/local/lib/python3.7/dist-packages/torchvision/transforms/functional.py:169: UserWarning: The given NumPy array is not writeable, and PyTorch does not support non-writeable tensors. This means you can write to the underlying (supposedly non-writeable) NumPy array using the tensor. You may want to copy the array to protect its data or make it writeable before converting it to a tensor. This type of warning will be suppressed for the rest of this program. (Triggered internally at  /pytorch/torch/csrc/utils/tensor_numpy.cpp:143.)\n",
            "  img = torch.as_tensor(np.asarray(pic))\n",
            "Train: 100%|██████████| 9025/9025 [00:56<00:00, 158.92it/s]\n",
            "test|val: 100%|██████████| 3929/3929 [00:24<00:00, 161.16it/s]\n"
          ],
          "name": "stderr"
        }
      ]
    },
    {
      "cell_type": "code",
      "metadata": {
        "colab": {
          "base_uri": "https://localhost:8080/"
        },
        "id": "Zf1z8B0lPO4n",
        "outputId": "f1130fcc-8e72-40d0-d0ee-9abf84ba6479"
      },
      "source": [
        "(len(train_data),len(valid_data))"
      ],
      "execution_count": 25,
      "outputs": [
        {
          "output_type": "execute_result",
          "data": {
            "text/plain": [
              "(8943, 3890)"
            ]
          },
          "metadata": {
            "tags": []
          },
          "execution_count": 25
        }
      ]
    },
    {
      "cell_type": "markdown",
      "metadata": {
        "id": "9KqkfzIHDSwC"
      },
      "source": [
        "# Так как в train у нас в два раза меньше класса \"9\", чем остальных, мы можем сделать аугментацию, к примеру повернуть картинки класса \"9\", на случайный угол, ответ классификатора, естественно поменяться не должен"
      ]
    },
    {
      "cell_type": "code",
      "metadata": {
        "id": "ApwpEk5RJFXX"
      },
      "source": [
        "\n"
      ],
      "execution_count": 25,
      "outputs": []
    },
    {
      "cell_type": "code",
      "metadata": {
        "id": "0Lsp08ygDMJa"
      },
      "source": [
        "# import random\n",
        "# def augmentation(df):\n",
        "#   data_aug = []\n",
        "#   for image, i in zip(tqdm(df.path[:10], desc = 'test|val'), df.index[::10]):\n",
        "#     item = {}\n",
        "#     img = Image.open(image)\n",
        "#     img = transforms.functional.pil_to_tensor(img)\n",
        "#     for j in range(1):\n",
        "#       ang = int(random.random() * 360)\n",
        "#       image = transforms.functional.affine(img, angle = ang, translate = (0,0), scale = 1 , shear = 0) #поворачиваем на случайный угол\n",
        "#     item['img'] = image #добавляем картинки\n",
        "#     item['target'] = df.noisy_labels_0[i] #добавляем таргет\n",
        "#     data_aug.append(item)\n",
        "#   return data_aug\n",
        "\n",
        "# data_aug_train = augmentation(df[(df.test == 0) & (df.noisy_labels_0 ==9)])\n",
        "# data_aug_valid = augmentation(df[(df.test == 1) & (df.noisy_labels_0 ==9)])\n",
        "\n",
        "# train_data = np.concatenate([train_data, data_aug_train])\n",
        "# valid_data = np.concatenate([valid_data, data_aug_valid])\n",
        "\n",
        "\n"
      ],
      "execution_count": 26,
      "outputs": []
    },
    {
      "cell_type": "code",
      "metadata": {
        "id": "fsYHVGxyKPlk"
      },
      "source": [
        ""
      ],
      "execution_count": 26,
      "outputs": []
    },
    {
      "cell_type": "code",
      "metadata": {
        "id": "7SVk26fPNhr8"
      },
      "source": [
        "# len(train_data)"
      ],
      "execution_count": 27,
      "outputs": []
    },
    {
      "cell_type": "code",
      "metadata": {
        "id": "2KWFaUDjMq0B"
      },
      "source": [
        ""
      ],
      "execution_count": 27,
      "outputs": []
    },
    {
      "cell_type": "code",
      "metadata": {
        "id": "_WqQZw-453Oq"
      },
      "source": [
        "# image,label  = train_data[500].values()\n",
        "# image = image.reshape(image.shape[1], image.shape[2], image.shape[0])\n",
        "# for i in range(len(valid_data)):\n",
        "#   image,label  = valid_data[i].values()\n",
        "#   if image.shape[0] ==3:\n",
        "#     print(image.shape)"
      ],
      "execution_count": 28,
      "outputs": []
    },
    {
      "cell_type": "markdown",
      "metadata": {
        "id": "vCqEDew_mqDl"
      },
      "source": [
        "# 2) Создаём Dataset (изменяем размеры, аугмуентация, нормализация)"
      ]
    },
    {
      "cell_type": "code",
      "metadata": {
        "id": "dXPGDKzzZsby"
      },
      "source": [
        "###схема трансформации картинки###\n",
        "transform_train = transforms.Compose([\n",
        "    transforms.ToPILImage(),\n",
        "    transforms.Resize((150,150)),\n",
        "    transforms.RandomHorizontalFlip(),\n",
        "    transforms.RandomVerticalFlip(),\n",
        "    transforms.ToTensor(),\n",
        "    transforms.Normalize(mean = [0.5,0.5,0.5],std = [0.5,0.5,0.5])\n",
        "    \n",
        "])\n",
        "\n",
        "transform_test = transforms.Compose([\n",
        "    transforms.ToPILImage(),\n",
        "    transforms.Resize((150,150)), \n",
        "    transforms.ToTensor(),\n",
        "    transforms.Normalize(mean = [0.5,0.5,0.5],std = [0.5,0.5,0.5])\n",
        "])"
      ],
      "execution_count": 29,
      "outputs": []
    },
    {
      "cell_type": "code",
      "metadata": {
        "id": "TYLBuxx9Zsbz"
      },
      "source": [
        "class Dataset(): #создаём датасет\n",
        "    def __init__(self, data, source_transform):  #задаём, как мы хотим трансформировать призник и таргет\n",
        "        self.datas = data\n",
        "        self.s_transform = source_transform\n",
        "        self.pil_transform = transforms.Compose([transforms.ToPILImage(),\n",
        "                                                 transforms.Resize((128,128))])\n",
        "        self.normalize_tr = transforms.Compose([transforms.ToTensor(),\n",
        "                                                transforms.Normalize(mean = [0.5,0.5,0.5],std = [0.5,0.5,0.5])])\n",
        "    \n",
        "    def __getitem__(self, index): \n",
        "        data = self.datas[index] # берем элемент data\n",
        "        img = data['img'] # достаем картинку \n",
        "        target = data['target']\n",
        "        img = self.s_transform(img) #применяем трансформ к картинке\n",
        "        return img,target\n",
        "    \n",
        "    def __len__(self):\n",
        "        return len(self.datas)\n",
        "    \n",
        "    \n",
        "\n",
        "class TestDataset(): #создаём датасет\n",
        "    def __init__(self, data, source_transform):  #задаём, как мы хотим трансформировать призник и таргет\n",
        "        self.datas = data\n",
        "        self.s_transform = source_transform\n",
        "        self.pil_transform = transforms.Compose([transforms.ToPILImage(),\n",
        "                                                 transforms.Resize((128,128))])\n",
        "        self.normalize_tr = transforms.Compose([transforms.ToTensor(),\n",
        "                                                transforms.Normalize(mean = [0.5,0.5,0.5],std = [0.5,0.5,0.5])])\n",
        "    \n",
        "    def __getitem__(self, index): \n",
        "        data = self.datas[index] # берем элемент data\n",
        "        img = data['img'] # достаем картинку \n",
        "        target = data['target']\n",
        "        img = self.s_transform(img) #применяем трансформ к картинке\n",
        "        return img, target\n",
        "    \n",
        "    def __len__(self):\n",
        "        return len(self.datas)"
      ],
      "execution_count": 30,
      "outputs": []
    },
    {
      "cell_type": "code",
      "metadata": {
        "id": "y7ouhIlvZsbz"
      },
      "source": [
        "train_dataset = Dataset(train_data, transform_train)\n",
        "valid_dataset = TestDataset(valid_data, transform_test)\n",
        "test_dataset = TestDataset(test_data, transform_test)"
      ],
      "execution_count": 31,
      "outputs": []
    },
    {
      "cell_type": "code",
      "metadata": {
        "colab": {
          "base_uri": "https://localhost:8080/"
        },
        "id": "9EMw4bdh11FT",
        "outputId": "186ef616-4d22-4628-d46b-977529e2e274"
      },
      "source": [
        "image,label  = valid_dataset[0]\n",
        "print(image.shape, label)"
      ],
      "execution_count": 32,
      "outputs": [
        {
          "output_type": "stream",
          "text": [
            "torch.Size([3, 150, 150]) 0\n"
          ],
          "name": "stdout"
        }
      ]
    },
    {
      "cell_type": "code",
      "metadata": {
        "id": "xVfkQEVcZsb0"
      },
      "source": [
        "batch_size=128\n",
        "train_dl = DataLoader(train_dataset, batch_size, shuffle=True, num_workers=0, pin_memory=True)\n",
        "valid_dl = DataLoader(valid_dataset, batch_size, num_workers=0, pin_memory=True)\n",
        "# pred_dl = DataLoader(pred_ds, batch_size, num_workers=4, pin_memory=True)"
      ],
      "execution_count": 33,
      "outputs": []
    },
    {
      "cell_type": "markdown",
      "metadata": {
        "id": "kayG2w2ro8yl"
      },
      "source": [
        "#3) Построение и обучение моделей"
      ]
    },
    {
      "cell_type": "code",
      "metadata": {
        "id": "EuaLzqYr1Vxt"
      },
      "source": [
        "def accuracy(outputs, labels):\n",
        "    _, preds = torch.max(outputs, dim=1)\n",
        "    return torch.tensor(torch.sum(preds == labels).item() / len(preds))"
      ],
      "execution_count": 34,
      "outputs": []
    },
    {
      "cell_type": "code",
      "metadata": {
        "id": "LVv6DR4pZsb0"
      },
      "source": [
        "from torchvision import models"
      ],
      "execution_count": 35,
      "outputs": []
    },
    {
      "cell_type": "code",
      "metadata": {
        "id": "I8hr9AzmZsb0"
      },
      "source": [
        "# modelvgg = models.vgg19(pretrained = True)"
      ],
      "execution_count": 36,
      "outputs": []
    },
    {
      "cell_type": "code",
      "metadata": {
        "id": "xsNjIWMIZsb1"
      },
      "source": [
        "# modelvgg"
      ],
      "execution_count": 37,
      "outputs": []
    },
    {
      "cell_type": "code",
      "metadata": {
        "id": "yeYTF3wPZsb1"
      },
      "source": [
        "modelresnet = models.resnet.wide_resnet101_2(pretrained = True)"
      ],
      "execution_count": 40,
      "outputs": []
    },
    {
      "cell_type": "code",
      "metadata": {
        "id": "SkTaO4xpz9va"
      },
      "source": [
        "# modeldensenet = models.densenet121(pretrained = True)"
      ],
      "execution_count": 41,
      "outputs": []
    },
    {
      "cell_type": "code",
      "metadata": {
        "id": "X1YC9IeWZsb2"
      },
      "source": [
        "# modeldensenet"
      ],
      "execution_count": 42,
      "outputs": []
    },
    {
      "cell_type": "code",
      "metadata": {
        "id": "TWe3-yQm5p48",
        "colab": {
          "base_uri": "https://localhost:8080/"
        },
        "outputId": "428c1bc9-e2bf-4d1e-8b3c-d40815ef91bd"
      },
      "source": [
        "modelresnet"
      ],
      "execution_count": 43,
      "outputs": [
        {
          "output_type": "execute_result",
          "data": {
            "text/plain": [
              "ResNet(\n",
              "  (conv1): Conv2d(3, 64, kernel_size=(7, 7), stride=(2, 2), padding=(3, 3), bias=False)\n",
              "  (bn1): BatchNorm2d(64, eps=1e-05, momentum=0.1, affine=True, track_running_stats=True)\n",
              "  (relu): ReLU(inplace=True)\n",
              "  (maxpool): MaxPool2d(kernel_size=3, stride=2, padding=1, dilation=1, ceil_mode=False)\n",
              "  (layer1): Sequential(\n",
              "    (0): Bottleneck(\n",
              "      (conv1): Conv2d(64, 128, kernel_size=(1, 1), stride=(1, 1), bias=False)\n",
              "      (bn1): BatchNorm2d(128, eps=1e-05, momentum=0.1, affine=True, track_running_stats=True)\n",
              "      (conv2): Conv2d(128, 128, kernel_size=(3, 3), stride=(1, 1), padding=(1, 1), bias=False)\n",
              "      (bn2): BatchNorm2d(128, eps=1e-05, momentum=0.1, affine=True, track_running_stats=True)\n",
              "      (conv3): Conv2d(128, 256, kernel_size=(1, 1), stride=(1, 1), bias=False)\n",
              "      (bn3): BatchNorm2d(256, eps=1e-05, momentum=0.1, affine=True, track_running_stats=True)\n",
              "      (relu): ReLU(inplace=True)\n",
              "      (downsample): Sequential(\n",
              "        (0): Conv2d(64, 256, kernel_size=(1, 1), stride=(1, 1), bias=False)\n",
              "        (1): BatchNorm2d(256, eps=1e-05, momentum=0.1, affine=True, track_running_stats=True)\n",
              "      )\n",
              "    )\n",
              "    (1): Bottleneck(\n",
              "      (conv1): Conv2d(256, 128, kernel_size=(1, 1), stride=(1, 1), bias=False)\n",
              "      (bn1): BatchNorm2d(128, eps=1e-05, momentum=0.1, affine=True, track_running_stats=True)\n",
              "      (conv2): Conv2d(128, 128, kernel_size=(3, 3), stride=(1, 1), padding=(1, 1), bias=False)\n",
              "      (bn2): BatchNorm2d(128, eps=1e-05, momentum=0.1, affine=True, track_running_stats=True)\n",
              "      (conv3): Conv2d(128, 256, kernel_size=(1, 1), stride=(1, 1), bias=False)\n",
              "      (bn3): BatchNorm2d(256, eps=1e-05, momentum=0.1, affine=True, track_running_stats=True)\n",
              "      (relu): ReLU(inplace=True)\n",
              "    )\n",
              "    (2): Bottleneck(\n",
              "      (conv1): Conv2d(256, 128, kernel_size=(1, 1), stride=(1, 1), bias=False)\n",
              "      (bn1): BatchNorm2d(128, eps=1e-05, momentum=0.1, affine=True, track_running_stats=True)\n",
              "      (conv2): Conv2d(128, 128, kernel_size=(3, 3), stride=(1, 1), padding=(1, 1), bias=False)\n",
              "      (bn2): BatchNorm2d(128, eps=1e-05, momentum=0.1, affine=True, track_running_stats=True)\n",
              "      (conv3): Conv2d(128, 256, kernel_size=(1, 1), stride=(1, 1), bias=False)\n",
              "      (bn3): BatchNorm2d(256, eps=1e-05, momentum=0.1, affine=True, track_running_stats=True)\n",
              "      (relu): ReLU(inplace=True)\n",
              "    )\n",
              "  )\n",
              "  (layer2): Sequential(\n",
              "    (0): Bottleneck(\n",
              "      (conv1): Conv2d(256, 256, kernel_size=(1, 1), stride=(1, 1), bias=False)\n",
              "      (bn1): BatchNorm2d(256, eps=1e-05, momentum=0.1, affine=True, track_running_stats=True)\n",
              "      (conv2): Conv2d(256, 256, kernel_size=(3, 3), stride=(2, 2), padding=(1, 1), bias=False)\n",
              "      (bn2): BatchNorm2d(256, eps=1e-05, momentum=0.1, affine=True, track_running_stats=True)\n",
              "      (conv3): Conv2d(256, 512, kernel_size=(1, 1), stride=(1, 1), bias=False)\n",
              "      (bn3): BatchNorm2d(512, eps=1e-05, momentum=0.1, affine=True, track_running_stats=True)\n",
              "      (relu): ReLU(inplace=True)\n",
              "      (downsample): Sequential(\n",
              "        (0): Conv2d(256, 512, kernel_size=(1, 1), stride=(2, 2), bias=False)\n",
              "        (1): BatchNorm2d(512, eps=1e-05, momentum=0.1, affine=True, track_running_stats=True)\n",
              "      )\n",
              "    )\n",
              "    (1): Bottleneck(\n",
              "      (conv1): Conv2d(512, 256, kernel_size=(1, 1), stride=(1, 1), bias=False)\n",
              "      (bn1): BatchNorm2d(256, eps=1e-05, momentum=0.1, affine=True, track_running_stats=True)\n",
              "      (conv2): Conv2d(256, 256, kernel_size=(3, 3), stride=(1, 1), padding=(1, 1), bias=False)\n",
              "      (bn2): BatchNorm2d(256, eps=1e-05, momentum=0.1, affine=True, track_running_stats=True)\n",
              "      (conv3): Conv2d(256, 512, kernel_size=(1, 1), stride=(1, 1), bias=False)\n",
              "      (bn3): BatchNorm2d(512, eps=1e-05, momentum=0.1, affine=True, track_running_stats=True)\n",
              "      (relu): ReLU(inplace=True)\n",
              "    )\n",
              "    (2): Bottleneck(\n",
              "      (conv1): Conv2d(512, 256, kernel_size=(1, 1), stride=(1, 1), bias=False)\n",
              "      (bn1): BatchNorm2d(256, eps=1e-05, momentum=0.1, affine=True, track_running_stats=True)\n",
              "      (conv2): Conv2d(256, 256, kernel_size=(3, 3), stride=(1, 1), padding=(1, 1), bias=False)\n",
              "      (bn2): BatchNorm2d(256, eps=1e-05, momentum=0.1, affine=True, track_running_stats=True)\n",
              "      (conv3): Conv2d(256, 512, kernel_size=(1, 1), stride=(1, 1), bias=False)\n",
              "      (bn3): BatchNorm2d(512, eps=1e-05, momentum=0.1, affine=True, track_running_stats=True)\n",
              "      (relu): ReLU(inplace=True)\n",
              "    )\n",
              "    (3): Bottleneck(\n",
              "      (conv1): Conv2d(512, 256, kernel_size=(1, 1), stride=(1, 1), bias=False)\n",
              "      (bn1): BatchNorm2d(256, eps=1e-05, momentum=0.1, affine=True, track_running_stats=True)\n",
              "      (conv2): Conv2d(256, 256, kernel_size=(3, 3), stride=(1, 1), padding=(1, 1), bias=False)\n",
              "      (bn2): BatchNorm2d(256, eps=1e-05, momentum=0.1, affine=True, track_running_stats=True)\n",
              "      (conv3): Conv2d(256, 512, kernel_size=(1, 1), stride=(1, 1), bias=False)\n",
              "      (bn3): BatchNorm2d(512, eps=1e-05, momentum=0.1, affine=True, track_running_stats=True)\n",
              "      (relu): ReLU(inplace=True)\n",
              "    )\n",
              "  )\n",
              "  (layer3): Sequential(\n",
              "    (0): Bottleneck(\n",
              "      (conv1): Conv2d(512, 512, kernel_size=(1, 1), stride=(1, 1), bias=False)\n",
              "      (bn1): BatchNorm2d(512, eps=1e-05, momentum=0.1, affine=True, track_running_stats=True)\n",
              "      (conv2): Conv2d(512, 512, kernel_size=(3, 3), stride=(2, 2), padding=(1, 1), bias=False)\n",
              "      (bn2): BatchNorm2d(512, eps=1e-05, momentum=0.1, affine=True, track_running_stats=True)\n",
              "      (conv3): Conv2d(512, 1024, kernel_size=(1, 1), stride=(1, 1), bias=False)\n",
              "      (bn3): BatchNorm2d(1024, eps=1e-05, momentum=0.1, affine=True, track_running_stats=True)\n",
              "      (relu): ReLU(inplace=True)\n",
              "      (downsample): Sequential(\n",
              "        (0): Conv2d(512, 1024, kernel_size=(1, 1), stride=(2, 2), bias=False)\n",
              "        (1): BatchNorm2d(1024, eps=1e-05, momentum=0.1, affine=True, track_running_stats=True)\n",
              "      )\n",
              "    )\n",
              "    (1): Bottleneck(\n",
              "      (conv1): Conv2d(1024, 512, kernel_size=(1, 1), stride=(1, 1), bias=False)\n",
              "      (bn1): BatchNorm2d(512, eps=1e-05, momentum=0.1, affine=True, track_running_stats=True)\n",
              "      (conv2): Conv2d(512, 512, kernel_size=(3, 3), stride=(1, 1), padding=(1, 1), bias=False)\n",
              "      (bn2): BatchNorm2d(512, eps=1e-05, momentum=0.1, affine=True, track_running_stats=True)\n",
              "      (conv3): Conv2d(512, 1024, kernel_size=(1, 1), stride=(1, 1), bias=False)\n",
              "      (bn3): BatchNorm2d(1024, eps=1e-05, momentum=0.1, affine=True, track_running_stats=True)\n",
              "      (relu): ReLU(inplace=True)\n",
              "    )\n",
              "    (2): Bottleneck(\n",
              "      (conv1): Conv2d(1024, 512, kernel_size=(1, 1), stride=(1, 1), bias=False)\n",
              "      (bn1): BatchNorm2d(512, eps=1e-05, momentum=0.1, affine=True, track_running_stats=True)\n",
              "      (conv2): Conv2d(512, 512, kernel_size=(3, 3), stride=(1, 1), padding=(1, 1), bias=False)\n",
              "      (bn2): BatchNorm2d(512, eps=1e-05, momentum=0.1, affine=True, track_running_stats=True)\n",
              "      (conv3): Conv2d(512, 1024, kernel_size=(1, 1), stride=(1, 1), bias=False)\n",
              "      (bn3): BatchNorm2d(1024, eps=1e-05, momentum=0.1, affine=True, track_running_stats=True)\n",
              "      (relu): ReLU(inplace=True)\n",
              "    )\n",
              "    (3): Bottleneck(\n",
              "      (conv1): Conv2d(1024, 512, kernel_size=(1, 1), stride=(1, 1), bias=False)\n",
              "      (bn1): BatchNorm2d(512, eps=1e-05, momentum=0.1, affine=True, track_running_stats=True)\n",
              "      (conv2): Conv2d(512, 512, kernel_size=(3, 3), stride=(1, 1), padding=(1, 1), bias=False)\n",
              "      (bn2): BatchNorm2d(512, eps=1e-05, momentum=0.1, affine=True, track_running_stats=True)\n",
              "      (conv3): Conv2d(512, 1024, kernel_size=(1, 1), stride=(1, 1), bias=False)\n",
              "      (bn3): BatchNorm2d(1024, eps=1e-05, momentum=0.1, affine=True, track_running_stats=True)\n",
              "      (relu): ReLU(inplace=True)\n",
              "    )\n",
              "    (4): Bottleneck(\n",
              "      (conv1): Conv2d(1024, 512, kernel_size=(1, 1), stride=(1, 1), bias=False)\n",
              "      (bn1): BatchNorm2d(512, eps=1e-05, momentum=0.1, affine=True, track_running_stats=True)\n",
              "      (conv2): Conv2d(512, 512, kernel_size=(3, 3), stride=(1, 1), padding=(1, 1), bias=False)\n",
              "      (bn2): BatchNorm2d(512, eps=1e-05, momentum=0.1, affine=True, track_running_stats=True)\n",
              "      (conv3): Conv2d(512, 1024, kernel_size=(1, 1), stride=(1, 1), bias=False)\n",
              "      (bn3): BatchNorm2d(1024, eps=1e-05, momentum=0.1, affine=True, track_running_stats=True)\n",
              "      (relu): ReLU(inplace=True)\n",
              "    )\n",
              "    (5): Bottleneck(\n",
              "      (conv1): Conv2d(1024, 512, kernel_size=(1, 1), stride=(1, 1), bias=False)\n",
              "      (bn1): BatchNorm2d(512, eps=1e-05, momentum=0.1, affine=True, track_running_stats=True)\n",
              "      (conv2): Conv2d(512, 512, kernel_size=(3, 3), stride=(1, 1), padding=(1, 1), bias=False)\n",
              "      (bn2): BatchNorm2d(512, eps=1e-05, momentum=0.1, affine=True, track_running_stats=True)\n",
              "      (conv3): Conv2d(512, 1024, kernel_size=(1, 1), stride=(1, 1), bias=False)\n",
              "      (bn3): BatchNorm2d(1024, eps=1e-05, momentum=0.1, affine=True, track_running_stats=True)\n",
              "      (relu): ReLU(inplace=True)\n",
              "    )\n",
              "    (6): Bottleneck(\n",
              "      (conv1): Conv2d(1024, 512, kernel_size=(1, 1), stride=(1, 1), bias=False)\n",
              "      (bn1): BatchNorm2d(512, eps=1e-05, momentum=0.1, affine=True, track_running_stats=True)\n",
              "      (conv2): Conv2d(512, 512, kernel_size=(3, 3), stride=(1, 1), padding=(1, 1), bias=False)\n",
              "      (bn2): BatchNorm2d(512, eps=1e-05, momentum=0.1, affine=True, track_running_stats=True)\n",
              "      (conv3): Conv2d(512, 1024, kernel_size=(1, 1), stride=(1, 1), bias=False)\n",
              "      (bn3): BatchNorm2d(1024, eps=1e-05, momentum=0.1, affine=True, track_running_stats=True)\n",
              "      (relu): ReLU(inplace=True)\n",
              "    )\n",
              "    (7): Bottleneck(\n",
              "      (conv1): Conv2d(1024, 512, kernel_size=(1, 1), stride=(1, 1), bias=False)\n",
              "      (bn1): BatchNorm2d(512, eps=1e-05, momentum=0.1, affine=True, track_running_stats=True)\n",
              "      (conv2): Conv2d(512, 512, kernel_size=(3, 3), stride=(1, 1), padding=(1, 1), bias=False)\n",
              "      (bn2): BatchNorm2d(512, eps=1e-05, momentum=0.1, affine=True, track_running_stats=True)\n",
              "      (conv3): Conv2d(512, 1024, kernel_size=(1, 1), stride=(1, 1), bias=False)\n",
              "      (bn3): BatchNorm2d(1024, eps=1e-05, momentum=0.1, affine=True, track_running_stats=True)\n",
              "      (relu): ReLU(inplace=True)\n",
              "    )\n",
              "    (8): Bottleneck(\n",
              "      (conv1): Conv2d(1024, 512, kernel_size=(1, 1), stride=(1, 1), bias=False)\n",
              "      (bn1): BatchNorm2d(512, eps=1e-05, momentum=0.1, affine=True, track_running_stats=True)\n",
              "      (conv2): Conv2d(512, 512, kernel_size=(3, 3), stride=(1, 1), padding=(1, 1), bias=False)\n",
              "      (bn2): BatchNorm2d(512, eps=1e-05, momentum=0.1, affine=True, track_running_stats=True)\n",
              "      (conv3): Conv2d(512, 1024, kernel_size=(1, 1), stride=(1, 1), bias=False)\n",
              "      (bn3): BatchNorm2d(1024, eps=1e-05, momentum=0.1, affine=True, track_running_stats=True)\n",
              "      (relu): ReLU(inplace=True)\n",
              "    )\n",
              "    (9): Bottleneck(\n",
              "      (conv1): Conv2d(1024, 512, kernel_size=(1, 1), stride=(1, 1), bias=False)\n",
              "      (bn1): BatchNorm2d(512, eps=1e-05, momentum=0.1, affine=True, track_running_stats=True)\n",
              "      (conv2): Conv2d(512, 512, kernel_size=(3, 3), stride=(1, 1), padding=(1, 1), bias=False)\n",
              "      (bn2): BatchNorm2d(512, eps=1e-05, momentum=0.1, affine=True, track_running_stats=True)\n",
              "      (conv3): Conv2d(512, 1024, kernel_size=(1, 1), stride=(1, 1), bias=False)\n",
              "      (bn3): BatchNorm2d(1024, eps=1e-05, momentum=0.1, affine=True, track_running_stats=True)\n",
              "      (relu): ReLU(inplace=True)\n",
              "    )\n",
              "    (10): Bottleneck(\n",
              "      (conv1): Conv2d(1024, 512, kernel_size=(1, 1), stride=(1, 1), bias=False)\n",
              "      (bn1): BatchNorm2d(512, eps=1e-05, momentum=0.1, affine=True, track_running_stats=True)\n",
              "      (conv2): Conv2d(512, 512, kernel_size=(3, 3), stride=(1, 1), padding=(1, 1), bias=False)\n",
              "      (bn2): BatchNorm2d(512, eps=1e-05, momentum=0.1, affine=True, track_running_stats=True)\n",
              "      (conv3): Conv2d(512, 1024, kernel_size=(1, 1), stride=(1, 1), bias=False)\n",
              "      (bn3): BatchNorm2d(1024, eps=1e-05, momentum=0.1, affine=True, track_running_stats=True)\n",
              "      (relu): ReLU(inplace=True)\n",
              "    )\n",
              "    (11): Bottleneck(\n",
              "      (conv1): Conv2d(1024, 512, kernel_size=(1, 1), stride=(1, 1), bias=False)\n",
              "      (bn1): BatchNorm2d(512, eps=1e-05, momentum=0.1, affine=True, track_running_stats=True)\n",
              "      (conv2): Conv2d(512, 512, kernel_size=(3, 3), stride=(1, 1), padding=(1, 1), bias=False)\n",
              "      (bn2): BatchNorm2d(512, eps=1e-05, momentum=0.1, affine=True, track_running_stats=True)\n",
              "      (conv3): Conv2d(512, 1024, kernel_size=(1, 1), stride=(1, 1), bias=False)\n",
              "      (bn3): BatchNorm2d(1024, eps=1e-05, momentum=0.1, affine=True, track_running_stats=True)\n",
              "      (relu): ReLU(inplace=True)\n",
              "    )\n",
              "    (12): Bottleneck(\n",
              "      (conv1): Conv2d(1024, 512, kernel_size=(1, 1), stride=(1, 1), bias=False)\n",
              "      (bn1): BatchNorm2d(512, eps=1e-05, momentum=0.1, affine=True, track_running_stats=True)\n",
              "      (conv2): Conv2d(512, 512, kernel_size=(3, 3), stride=(1, 1), padding=(1, 1), bias=False)\n",
              "      (bn2): BatchNorm2d(512, eps=1e-05, momentum=0.1, affine=True, track_running_stats=True)\n",
              "      (conv3): Conv2d(512, 1024, kernel_size=(1, 1), stride=(1, 1), bias=False)\n",
              "      (bn3): BatchNorm2d(1024, eps=1e-05, momentum=0.1, affine=True, track_running_stats=True)\n",
              "      (relu): ReLU(inplace=True)\n",
              "    )\n",
              "    (13): Bottleneck(\n",
              "      (conv1): Conv2d(1024, 512, kernel_size=(1, 1), stride=(1, 1), bias=False)\n",
              "      (bn1): BatchNorm2d(512, eps=1e-05, momentum=0.1, affine=True, track_running_stats=True)\n",
              "      (conv2): Conv2d(512, 512, kernel_size=(3, 3), stride=(1, 1), padding=(1, 1), bias=False)\n",
              "      (bn2): BatchNorm2d(512, eps=1e-05, momentum=0.1, affine=True, track_running_stats=True)\n",
              "      (conv3): Conv2d(512, 1024, kernel_size=(1, 1), stride=(1, 1), bias=False)\n",
              "      (bn3): BatchNorm2d(1024, eps=1e-05, momentum=0.1, affine=True, track_running_stats=True)\n",
              "      (relu): ReLU(inplace=True)\n",
              "    )\n",
              "    (14): Bottleneck(\n",
              "      (conv1): Conv2d(1024, 512, kernel_size=(1, 1), stride=(1, 1), bias=False)\n",
              "      (bn1): BatchNorm2d(512, eps=1e-05, momentum=0.1, affine=True, track_running_stats=True)\n",
              "      (conv2): Conv2d(512, 512, kernel_size=(3, 3), stride=(1, 1), padding=(1, 1), bias=False)\n",
              "      (bn2): BatchNorm2d(512, eps=1e-05, momentum=0.1, affine=True, track_running_stats=True)\n",
              "      (conv3): Conv2d(512, 1024, kernel_size=(1, 1), stride=(1, 1), bias=False)\n",
              "      (bn3): BatchNorm2d(1024, eps=1e-05, momentum=0.1, affine=True, track_running_stats=True)\n",
              "      (relu): ReLU(inplace=True)\n",
              "    )\n",
              "    (15): Bottleneck(\n",
              "      (conv1): Conv2d(1024, 512, kernel_size=(1, 1), stride=(1, 1), bias=False)\n",
              "      (bn1): BatchNorm2d(512, eps=1e-05, momentum=0.1, affine=True, track_running_stats=True)\n",
              "      (conv2): Conv2d(512, 512, kernel_size=(3, 3), stride=(1, 1), padding=(1, 1), bias=False)\n",
              "      (bn2): BatchNorm2d(512, eps=1e-05, momentum=0.1, affine=True, track_running_stats=True)\n",
              "      (conv3): Conv2d(512, 1024, kernel_size=(1, 1), stride=(1, 1), bias=False)\n",
              "      (bn3): BatchNorm2d(1024, eps=1e-05, momentum=0.1, affine=True, track_running_stats=True)\n",
              "      (relu): ReLU(inplace=True)\n",
              "    )\n",
              "    (16): Bottleneck(\n",
              "      (conv1): Conv2d(1024, 512, kernel_size=(1, 1), stride=(1, 1), bias=False)\n",
              "      (bn1): BatchNorm2d(512, eps=1e-05, momentum=0.1, affine=True, track_running_stats=True)\n",
              "      (conv2): Conv2d(512, 512, kernel_size=(3, 3), stride=(1, 1), padding=(1, 1), bias=False)\n",
              "      (bn2): BatchNorm2d(512, eps=1e-05, momentum=0.1, affine=True, track_running_stats=True)\n",
              "      (conv3): Conv2d(512, 1024, kernel_size=(1, 1), stride=(1, 1), bias=False)\n",
              "      (bn3): BatchNorm2d(1024, eps=1e-05, momentum=0.1, affine=True, track_running_stats=True)\n",
              "      (relu): ReLU(inplace=True)\n",
              "    )\n",
              "    (17): Bottleneck(\n",
              "      (conv1): Conv2d(1024, 512, kernel_size=(1, 1), stride=(1, 1), bias=False)\n",
              "      (bn1): BatchNorm2d(512, eps=1e-05, momentum=0.1, affine=True, track_running_stats=True)\n",
              "      (conv2): Conv2d(512, 512, kernel_size=(3, 3), stride=(1, 1), padding=(1, 1), bias=False)\n",
              "      (bn2): BatchNorm2d(512, eps=1e-05, momentum=0.1, affine=True, track_running_stats=True)\n",
              "      (conv3): Conv2d(512, 1024, kernel_size=(1, 1), stride=(1, 1), bias=False)\n",
              "      (bn3): BatchNorm2d(1024, eps=1e-05, momentum=0.1, affine=True, track_running_stats=True)\n",
              "      (relu): ReLU(inplace=True)\n",
              "    )\n",
              "    (18): Bottleneck(\n",
              "      (conv1): Conv2d(1024, 512, kernel_size=(1, 1), stride=(1, 1), bias=False)\n",
              "      (bn1): BatchNorm2d(512, eps=1e-05, momentum=0.1, affine=True, track_running_stats=True)\n",
              "      (conv2): Conv2d(512, 512, kernel_size=(3, 3), stride=(1, 1), padding=(1, 1), bias=False)\n",
              "      (bn2): BatchNorm2d(512, eps=1e-05, momentum=0.1, affine=True, track_running_stats=True)\n",
              "      (conv3): Conv2d(512, 1024, kernel_size=(1, 1), stride=(1, 1), bias=False)\n",
              "      (bn3): BatchNorm2d(1024, eps=1e-05, momentum=0.1, affine=True, track_running_stats=True)\n",
              "      (relu): ReLU(inplace=True)\n",
              "    )\n",
              "    (19): Bottleneck(\n",
              "      (conv1): Conv2d(1024, 512, kernel_size=(1, 1), stride=(1, 1), bias=False)\n",
              "      (bn1): BatchNorm2d(512, eps=1e-05, momentum=0.1, affine=True, track_running_stats=True)\n",
              "      (conv2): Conv2d(512, 512, kernel_size=(3, 3), stride=(1, 1), padding=(1, 1), bias=False)\n",
              "      (bn2): BatchNorm2d(512, eps=1e-05, momentum=0.1, affine=True, track_running_stats=True)\n",
              "      (conv3): Conv2d(512, 1024, kernel_size=(1, 1), stride=(1, 1), bias=False)\n",
              "      (bn3): BatchNorm2d(1024, eps=1e-05, momentum=0.1, affine=True, track_running_stats=True)\n",
              "      (relu): ReLU(inplace=True)\n",
              "    )\n",
              "    (20): Bottleneck(\n",
              "      (conv1): Conv2d(1024, 512, kernel_size=(1, 1), stride=(1, 1), bias=False)\n",
              "      (bn1): BatchNorm2d(512, eps=1e-05, momentum=0.1, affine=True, track_running_stats=True)\n",
              "      (conv2): Conv2d(512, 512, kernel_size=(3, 3), stride=(1, 1), padding=(1, 1), bias=False)\n",
              "      (bn2): BatchNorm2d(512, eps=1e-05, momentum=0.1, affine=True, track_running_stats=True)\n",
              "      (conv3): Conv2d(512, 1024, kernel_size=(1, 1), stride=(1, 1), bias=False)\n",
              "      (bn3): BatchNorm2d(1024, eps=1e-05, momentum=0.1, affine=True, track_running_stats=True)\n",
              "      (relu): ReLU(inplace=True)\n",
              "    )\n",
              "    (21): Bottleneck(\n",
              "      (conv1): Conv2d(1024, 512, kernel_size=(1, 1), stride=(1, 1), bias=False)\n",
              "      (bn1): BatchNorm2d(512, eps=1e-05, momentum=0.1, affine=True, track_running_stats=True)\n",
              "      (conv2): Conv2d(512, 512, kernel_size=(3, 3), stride=(1, 1), padding=(1, 1), bias=False)\n",
              "      (bn2): BatchNorm2d(512, eps=1e-05, momentum=0.1, affine=True, track_running_stats=True)\n",
              "      (conv3): Conv2d(512, 1024, kernel_size=(1, 1), stride=(1, 1), bias=False)\n",
              "      (bn3): BatchNorm2d(1024, eps=1e-05, momentum=0.1, affine=True, track_running_stats=True)\n",
              "      (relu): ReLU(inplace=True)\n",
              "    )\n",
              "    (22): Bottleneck(\n",
              "      (conv1): Conv2d(1024, 512, kernel_size=(1, 1), stride=(1, 1), bias=False)\n",
              "      (bn1): BatchNorm2d(512, eps=1e-05, momentum=0.1, affine=True, track_running_stats=True)\n",
              "      (conv2): Conv2d(512, 512, kernel_size=(3, 3), stride=(1, 1), padding=(1, 1), bias=False)\n",
              "      (bn2): BatchNorm2d(512, eps=1e-05, momentum=0.1, affine=True, track_running_stats=True)\n",
              "      (conv3): Conv2d(512, 1024, kernel_size=(1, 1), stride=(1, 1), bias=False)\n",
              "      (bn3): BatchNorm2d(1024, eps=1e-05, momentum=0.1, affine=True, track_running_stats=True)\n",
              "      (relu): ReLU(inplace=True)\n",
              "    )\n",
              "  )\n",
              "  (layer4): Sequential(\n",
              "    (0): Bottleneck(\n",
              "      (conv1): Conv2d(1024, 1024, kernel_size=(1, 1), stride=(1, 1), bias=False)\n",
              "      (bn1): BatchNorm2d(1024, eps=1e-05, momentum=0.1, affine=True, track_running_stats=True)\n",
              "      (conv2): Conv2d(1024, 1024, kernel_size=(3, 3), stride=(2, 2), padding=(1, 1), bias=False)\n",
              "      (bn2): BatchNorm2d(1024, eps=1e-05, momentum=0.1, affine=True, track_running_stats=True)\n",
              "      (conv3): Conv2d(1024, 2048, kernel_size=(1, 1), stride=(1, 1), bias=False)\n",
              "      (bn3): BatchNorm2d(2048, eps=1e-05, momentum=0.1, affine=True, track_running_stats=True)\n",
              "      (relu): ReLU(inplace=True)\n",
              "      (downsample): Sequential(\n",
              "        (0): Conv2d(1024, 2048, kernel_size=(1, 1), stride=(2, 2), bias=False)\n",
              "        (1): BatchNorm2d(2048, eps=1e-05, momentum=0.1, affine=True, track_running_stats=True)\n",
              "      )\n",
              "    )\n",
              "    (1): Bottleneck(\n",
              "      (conv1): Conv2d(2048, 1024, kernel_size=(1, 1), stride=(1, 1), bias=False)\n",
              "      (bn1): BatchNorm2d(1024, eps=1e-05, momentum=0.1, affine=True, track_running_stats=True)\n",
              "      (conv2): Conv2d(1024, 1024, kernel_size=(3, 3), stride=(1, 1), padding=(1, 1), bias=False)\n",
              "      (bn2): BatchNorm2d(1024, eps=1e-05, momentum=0.1, affine=True, track_running_stats=True)\n",
              "      (conv3): Conv2d(1024, 2048, kernel_size=(1, 1), stride=(1, 1), bias=False)\n",
              "      (bn3): BatchNorm2d(2048, eps=1e-05, momentum=0.1, affine=True, track_running_stats=True)\n",
              "      (relu): ReLU(inplace=True)\n",
              "    )\n",
              "    (2): Bottleneck(\n",
              "      (conv1): Conv2d(2048, 1024, kernel_size=(1, 1), stride=(1, 1), bias=False)\n",
              "      (bn1): BatchNorm2d(1024, eps=1e-05, momentum=0.1, affine=True, track_running_stats=True)\n",
              "      (conv2): Conv2d(1024, 1024, kernel_size=(3, 3), stride=(1, 1), padding=(1, 1), bias=False)\n",
              "      (bn2): BatchNorm2d(1024, eps=1e-05, momentum=0.1, affine=True, track_running_stats=True)\n",
              "      (conv3): Conv2d(1024, 2048, kernel_size=(1, 1), stride=(1, 1), bias=False)\n",
              "      (bn3): BatchNorm2d(2048, eps=1e-05, momentum=0.1, affine=True, track_running_stats=True)\n",
              "      (relu): ReLU(inplace=True)\n",
              "    )\n",
              "  )\n",
              "  (avgpool): AdaptiveAvgPool2d(output_size=(1, 1))\n",
              "  (fc): Linear(in_features=2048, out_features=1000, bias=True)\n",
              ")"
            ]
          },
          "metadata": {
            "tags": []
          },
          "execution_count": 43
        }
      ]
    },
    {
      "cell_type": "code",
      "metadata": {
        "id": "Q0pOgxPN53kY"
      },
      "source": [
        ""
      ],
      "execution_count": 43,
      "outputs": []
    },
    {
      "cell_type": "code",
      "metadata": {
        "id": "DrVZlNIa6JRH"
      },
      "source": [
        "for p in modelresnet.parameters() :\n",
        "    p.requires_grad = True"
      ],
      "execution_count": 44,
      "outputs": []
    },
    {
      "cell_type": "code",
      "metadata": {
        "id": "ZjmOmdh3Zsb2"
      },
      "source": [
        "# for p in modelvgg.parameters() :\n",
        "#     p.requires_grad = True"
      ],
      "execution_count": 45,
      "outputs": []
    },
    {
      "cell_type": "code",
      "metadata": {
        "id": "1GcZz5xgZsb2"
      },
      "source": [
        "# for p in modeldensenet.parameters() :\n",
        "#     p.requires_grad = True"
      ],
      "execution_count": 46,
      "outputs": []
    },
    {
      "cell_type": "code",
      "metadata": {
        "id": "yIr_ZiVpZsb2"
      },
      "source": [
        "# #изменяем классификатор vgg под нашу задачу \n",
        "# modelvgg.Linear= nn.Sequential(nn.Linear(4096, 2048, bias = True), \n",
        "#                                     nn.ReLU(),\n",
        "#                                     nn.Linear(2048, 1024, bias = True), \n",
        "#                                     nn.ReLU(),\n",
        "#                                     nn.Dropout(p = 0.6),\n",
        "#                                     nn.Linear(1024, 512, bias = True),\n",
        "#                                     nn.ReLU(),\n",
        "#                                     nn.Linear(512, 10, bias = True),\n",
        "#                                     nn.LogSoftmax(dim = 1))"
      ],
      "execution_count": 47,
      "outputs": []
    },
    {
      "cell_type": "code",
      "metadata": {
        "id": "Bto5Q7O8Zsb3"
      },
      "source": [
        ""
      ],
      "execution_count": 47,
      "outputs": []
    },
    {
      "cell_type": "code",
      "metadata": {
        "id": "0p8wwTYTZsb3"
      },
      "source": [
        "#изменяем классификатор resnet под нашу задачу\n",
        "modelresnet.fc = nn.Sequential(nn.Linear(2048, 1024, bias = True), \n",
        "                                    nn.ReLU(),\n",
        "                                    nn.Dropout(p = 0.6),\n",
        "                                    nn.Linear(1024, 512, bias = True),\n",
        "                                    nn.ReLU(),\n",
        "                                    nn.Linear(512, 10, bias = True),\n",
        "                                    nn.LogSoftmax(dim = 1))"
      ],
      "execution_count": 48,
      "outputs": []
    },
    {
      "cell_type": "code",
      "metadata": {
        "id": "xL-uPWX_6q0W"
      },
      "source": [
        "# # изменяем классификатор efficient под нашу задачу\n",
        "# modeldensenet.classifier = nn.Sequential(nn.Linear(1024, 512, bias=True),\n",
        "#                                     nn.ReLU(),\n",
        "#                                     nn.Linear(512, 128, bias = True), \n",
        "#                                     nn.ReLU(),\n",
        "#                                     nn.Dropout(p = 0.6),\n",
        "#                                     nn.Linear(128, 10, bias = True),\n",
        "#                                     nn.LogSoftmax(dim = 1))"
      ],
      "execution_count": 49,
      "outputs": []
    },
    {
      "cell_type": "code",
      "metadata": {
        "id": "tdDZJNweSeDO"
      },
      "source": [
        "loss_function = F.cross_entropy\n",
        "# loss_function = nn.BCELoss()"
      ],
      "execution_count": 50,
      "outputs": []
    },
    {
      "cell_type": "code",
      "metadata": {
        "id": "IS0mSca_Zsb3"
      },
      "source": [
        "class ImageClassificationBase(nn.Module):\n",
        "    def training_step(self, batch):\n",
        "        images, labels = batch \n",
        "        out = self(images)                  # выдём предсказания\n",
        "        loss = loss_function(out, labels) # считаем loss\n",
        "        return loss\n",
        "    \n",
        "    def validation_step(self, batch):\n",
        "        images, labels = batch \n",
        "        out = self(images)                    # выдём предсказания\n",
        "        loss = loss_function(out, labels)   # считаем loss\n",
        "        acc = accuracy(out, labels)           # считаем accuracy\n",
        "        return {'val_loss': loss.detach(), 'val_acc': acc}\n",
        "        \n",
        "    def validation_epoch_end(self, outputs):\n",
        "        batch_losses = [x['val_loss'] for x in outputs]\n",
        "        epoch_loss = torch.stack(batch_losses).mean()   # считаем средний loss за эпохе\n",
        "        batch_accs = [x['val_acc'] for x in outputs]\n",
        "        epoch_acc = torch.stack(batch_accs).mean()      # считаем accuracy за эпоху\n",
        "        return {'val_loss': epoch_loss.item(), 'val_acc': epoch_acc.item()}\n",
        "    \n",
        "    def epoch_end(self, epoch, result):\n",
        "        print(\"Epoch [{}], train_loss: {:.4f}, val_loss: {:.4f}, val_acc: {:.4f}\".format(\n",
        "            epoch, result['train_loss'], result['val_loss'], result['val_acc']))"
      ],
      "execution_count": 51,
      "outputs": []
    },
    {
      "cell_type": "code",
      "metadata": {
        "id": "vwEx7EJPZsb3"
      },
      "source": [
        "class IntelCnnModelvgg(ImageClassificationBase):\n",
        "    def __init__(self):\n",
        "        super().__init__()\n",
        "        self.network = modelvgg\n",
        "    \n",
        "    def forward(self, xb):\n",
        "        return self.network(xb)"
      ],
      "execution_count": 52,
      "outputs": []
    },
    {
      "cell_type": "code",
      "metadata": {
        "id": "OKsIzjBTZsb4"
      },
      "source": [
        "class IntelCnnModelresnet(ImageClassificationBase):\n",
        "    def __init__(self):\n",
        "        super().__init__()\n",
        "        self.network = modelresnet\n",
        "    \n",
        "    def forward(self, xb):\n",
        "        return self.network(xb)"
      ],
      "execution_count": 53,
      "outputs": []
    },
    {
      "cell_type": "code",
      "metadata": {
        "id": "IpHQpu287i5j"
      },
      "source": [
        "class IntelCnnModeldensenet(ImageClassificationBase):\n",
        "    def __init__(self):\n",
        "        super().__init__()\n",
        "        self.network = modeldensenet\n",
        "    \n",
        "    def forward(self, xb):\n",
        "        return self.network(xb)"
      ],
      "execution_count": 54,
      "outputs": []
    },
    {
      "cell_type": "code",
      "metadata": {
        "id": "sC5dBtrzZsb4"
      },
      "source": [
        "# model1 = IntelCnnModelvgg()\n",
        "model2 = IntelCnnModelresnet()\n",
        "# model3 = IntelCnnModeldensenet()"
      ],
      "execution_count": 55,
      "outputs": []
    },
    {
      "cell_type": "code",
      "metadata": {
        "id": "5hN04MWMd3yP"
      },
      "source": [
        "#проверка устройства(что работает в данный момент)\n",
        "def get_default_device():\n",
        "  if torch.cuda.is_available:\n",
        "    return torch.device('cuda')\n",
        "  else:\n",
        "    return torch.device('cpu')"
      ],
      "execution_count": 56,
      "outputs": []
    },
    {
      "cell_type": "code",
      "metadata": {
        "colab": {
          "base_uri": "https://localhost:8080/"
        },
        "id": "dp5692KdeXrQ",
        "outputId": "1642bcbd-31bc-4d30-efc9-88397c70aa8e"
      },
      "source": [
        "device = get_default_device()\n",
        "device"
      ],
      "execution_count": 57,
      "outputs": [
        {
          "output_type": "execute_result",
          "data": {
            "text/plain": [
              "device(type='cuda')"
            ]
          },
          "metadata": {
            "tags": []
          },
          "execution_count": 57
        }
      ]
    },
    {
      "cell_type": "code",
      "metadata": {
        "id": "pExXGcr7eiWu"
      },
      "source": [
        "#перемещение тензоров на конкретное утройство\n",
        "def to_device(data, device):\n",
        "  if isinstance(data, (list, tuple)):\n",
        "    return [to_device(x, device) for x in data]\n",
        "  return data.to(device, non_blocking = True)"
      ],
      "execution_count": 58,
      "outputs": []
    },
    {
      "cell_type": "code",
      "metadata": {
        "id": "j0U5d9L8hdmY"
      },
      "source": [
        "#перемещение данных на конкретное устройство\n",
        "class DeviceDataLoader():\n",
        "    \"\"\"Wrap a dataloader to move data to a device\"\"\"\n",
        "    def __init__(self, dl, device):\n",
        "        self.dl = dl\n",
        "        self.device = device\n",
        "        \n",
        "    def __iter__(self):\n",
        "        \"\"\"Yield a batch of data after moving it to device\"\"\"\n",
        "        for b in self.dl: \n",
        "            yield to_device(b, self.device)\n",
        "\n",
        "    def __len__(self):\n",
        "        \"\"\"Number of batches\"\"\"\n",
        "        return len(self.dl)"
      ],
      "execution_count": 59,
      "outputs": []
    },
    {
      "cell_type": "code",
      "metadata": {
        "id": "wZtlSw9DhkOH"
      },
      "source": [
        "# #переводим данные\n",
        "train_dl = DeviceDataLoader(train_dl, device)\n",
        "valid_dl = DeviceDataLoader(valid_dl, device)\n",
        "# # pred_dl = DeviceDataLoader(pred_dl, device)\n",
        "# to_device(model1, device);"
      ],
      "execution_count": 60,
      "outputs": []
    },
    {
      "cell_type": "code",
      "metadata": {
        "id": "xZ3bUhC7xuFr"
      },
      "source": [
        "#графики loss\n",
        "def plot_losses(history):\n",
        "    train_losses = [x.get('train_loss') for x in history]\n",
        "    val_losses = [x['val_loss'] for x in history]\n",
        "    plt.plot(train_losses, '-bx')\n",
        "    plt.plot(val_losses, '-rx')\n",
        "    plt.xlabel('epoch')\n",
        "    plt.ylabel('loss')\n",
        "    plt.legend(['Training', 'Validation'])\n",
        "    plt.title('Loss')"
      ],
      "execution_count": 61,
      "outputs": []
    },
    {
      "cell_type": "code",
      "metadata": {
        "id": "_gw1uRhdiUOM"
      },
      "source": [
        "@torch.no_grad()\n",
        "def evaluate(model, val_loader):\n",
        "    model.eval()   #eval() is called to tell model that now it is validation mode and so don't perform stuff like dropout,backpropagation etc..\n",
        "    outputs = [model.validation_step(batch) for batch in val_loader]\n",
        "    return model.validation_epoch_end(outputs)\n",
        "\n",
        "def fit(epochs, lr, model, train_loader, val_loader, opt_func=torch.optim.Adam):\n",
        "    history = []\n",
        "    optimizer = opt_func(model.parameters(), lr)\n",
        "    for epoch in range(epochs):\n",
        "        #Тренируем \n",
        "        model.train() #eval() is called to tell model that now it is training mode and so  perform stuff like dropout,backpropagation etc..\n",
        "        train_losses = []\n",
        "        for batch in train_loader:\n",
        "            loss = model.training_step(batch)\n",
        "            train_losses.append(loss)\n",
        "            loss.backward()\n",
        "            optimizer.step()\n",
        "            optimizer.zero_grad()\n",
        "        #резльтат\n",
        "        result = evaluate(model, val_loader)\n",
        "        result['train_loss'] = torch.stack(train_losses).mean().item()\n",
        "        model.epoch_end(epoch, result)\n",
        "        history.append(result)\n",
        "        # clear_output(True)\n",
        "        # plot_losses(history)\n",
        "        # plt.show()\n",
        "    return history"
      ],
      "execution_count": 62,
      "outputs": []
    },
    {
      "cell_type": "markdown",
      "metadata": {
        "id": "KsXOPZwt2WYa"
      },
      "source": [
        "## Модель VGG19"
      ]
    },
    {
      "cell_type": "code",
      "metadata": {
        "id": "qEgOCSwnid4S"
      },
      "source": [
        "# model1 = to_device(IntelCnnModelvgg(), device)\n",
        "# # model = to_device(model, device)\n",
        "# evaluate(model1, valid_dl)"
      ],
      "execution_count": 63,
      "outputs": []
    },
    {
      "cell_type": "code",
      "metadata": {
        "id": "bHmlYbtffQES"
      },
      "source": [
        "# num_epochs = 10\n",
        "# opt_func = torch.optim.Adam\n",
        "# lr = 0.00001\n",
        "# history = fit(num_epochs, lr, model1, train_dl, valid_dl, opt_func)\n",
        "# evaluate(model1, valid_dl)"
      ],
      "execution_count": 64,
      "outputs": []
    },
    {
      "cell_type": "code",
      "metadata": {
        "id": "B1S5WPSWCCxP"
      },
      "source": [
        "# evaluate(model1, valid_dl)"
      ],
      "execution_count": 65,
      "outputs": []
    },
    {
      "cell_type": "markdown",
      "metadata": {
        "id": "3j2tk0Hb2b5A"
      },
      "source": [
        "## Модель ResNet\n",
        "\n"
      ]
    },
    {
      "cell_type": "code",
      "metadata": {
        "colab": {
          "base_uri": "https://localhost:8080/"
        },
        "id": "Tw1_ijOJ1xdm",
        "outputId": "4ae4a337-fc7b-4547-b4d7-48b323f6fd87"
      },
      "source": [
        "model2 = to_device(IntelCnnModelresnet(), device)\n",
        "# model = to_device(model, device)\n",
        "evaluate(model2, valid_dl)"
      ],
      "execution_count": 66,
      "outputs": [
        {
          "output_type": "execute_result",
          "data": {
            "text/plain": [
              "{'val_acc': 0.11214717477560043, 'val_loss': 2.3005154132843018}"
            ]
          },
          "metadata": {
            "tags": []
          },
          "execution_count": 66
        }
      ]
    },
    {
      "cell_type": "code",
      "metadata": {
        "colab": {
          "base_uri": "https://localhost:8080/"
        },
        "id": "qHValKl4199p",
        "outputId": "84211758-573e-4d26-a696-5d90cce56063"
      },
      "source": [
        "num_epochs = 10\n",
        "opt_func = torch.optim.Adam\n",
        "lr = 0.00001\n",
        "history = fit(num_epochs, lr, model2, train_dl, valid_dl, opt_func)\n",
        "evaluate(model2, valid_dl)"
      ],
      "execution_count": 67,
      "outputs": [
        {
          "output_type": "stream",
          "text": [
            "Epoch [0], train_loss: 2.2213, val_loss: 1.8987, val_acc: 0.7986\n",
            "Epoch [1], train_loss: 1.7499, val_loss: 1.0211, val_acc: 0.8508\n",
            "Epoch [2], train_loss: 0.9293, val_loss: 0.4948, val_acc: 0.8675\n",
            "Epoch [3], train_loss: 0.4569, val_loss: 0.2972, val_acc: 0.9203\n",
            "Epoch [4], train_loss: 0.2674, val_loss: 0.2443, val_acc: 0.9288\n",
            "Epoch [5], train_loss: 0.1865, val_loss: 0.2261, val_acc: 0.9273\n",
            "Epoch [6], train_loss: 0.1312, val_loss: 0.2242, val_acc: 0.9301\n",
            "Epoch [7], train_loss: 0.1001, val_loss: 0.2276, val_acc: 0.9289\n",
            "Epoch [8], train_loss: 0.0821, val_loss: 0.2284, val_acc: 0.9287\n",
            "Epoch [9], train_loss: 0.0644, val_loss: 0.2294, val_acc: 0.9266\n"
          ],
          "name": "stdout"
        },
        {
          "output_type": "execute_result",
          "data": {
            "text/plain": [
              "{'val_acc': 0.9266229271888733, 'val_loss': 0.22937016189098358}"
            ]
          },
          "metadata": {
            "tags": []
          },
          "execution_count": 67
        }
      ]
    },
    {
      "cell_type": "code",
      "metadata": {
        "id": "92tBtahe0rgI"
      },
      "source": [
        "# evaluate(model2, valid_dl)"
      ],
      "execution_count": 103,
      "outputs": []
    },
    {
      "cell_type": "markdown",
      "metadata": {
        "id": "3bi46nIoTRDk"
      },
      "source": [
        "Во время обучения протестил несколько моделей, вот лучшие результаты"
      ]
    },
    {
      "cell_type": "code",
      "metadata": {
        "colab": {
          "base_uri": "https://localhost:8080/",
          "height": 178
        },
        "id": "09_82E-EAs3b",
        "outputId": "5383f1aa-ebc5-402f-8227-74bd708b4011"
      },
      "source": [
        "results"
      ],
      "execution_count": 101,
      "outputs": [
        {
          "output_type": "execute_result",
          "data": {
            "text/html": [
              "<style  type=\"text/css\" >\n",
              "</style><table id=\"T_9025c05e_a3d1_11eb_87a3_0242ac1c0002\" ><thead>    <tr>        <th class=\"col_heading level0 col0\" >model</th>        <th class=\"col_heading level0 col1\" >val_accuracy</th>    </tr></thead><tbody>\n",
              "                <tr>\n",
              "                                <td id=\"T_9025c05e_a3d1_11eb_87a3_0242ac1c0002row0_col0\" class=\"data row0 col0\" >WideResNet-101-2</td>\n",
              "                        <td id=\"T_9025c05e_a3d1_11eb_87a3_0242ac1c0002row0_col1\" class=\"data row0 col1\" >0.930100</td>\n",
              "            </tr>\n",
              "            <tr>\n",
              "                                <td id=\"T_9025c05e_a3d1_11eb_87a3_0242ac1c0002row1_col0\" class=\"data row1 col0\" >Resnet152</td>\n",
              "                        <td id=\"T_9025c05e_a3d1_11eb_87a3_0242ac1c0002row1_col1\" class=\"data row1 col1\" >0.926500</td>\n",
              "            </tr>\n",
              "            <tr>\n",
              "                                <td id=\"T_9025c05e_a3d1_11eb_87a3_0242ac1c0002row2_col0\" class=\"data row2 col0\" >Resnet101</td>\n",
              "                        <td id=\"T_9025c05e_a3d1_11eb_87a3_0242ac1c0002row2_col1\" class=\"data row2 col1\" >0.925400</td>\n",
              "            </tr>\n",
              "            <tr>\n",
              "                                <td id=\"T_9025c05e_a3d1_11eb_87a3_0242ac1c0002row3_col0\" class=\"data row3 col0\" >Densenet121</td>\n",
              "                        <td id=\"T_9025c05e_a3d1_11eb_87a3_0242ac1c0002row3_col1\" class=\"data row3 col1\" >0.904700</td>\n",
              "            </tr>\n",
              "            <tr>\n",
              "                                <td id=\"T_9025c05e_a3d1_11eb_87a3_0242ac1c0002row4_col0\" class=\"data row4 col0\" >Resnet50</td>\n",
              "                        <td id=\"T_9025c05e_a3d1_11eb_87a3_0242ac1c0002row4_col1\" class=\"data row4 col1\" >0.900200</td>\n",
              "            </tr>\n",
              "            <tr>\n",
              "                                <td id=\"T_9025c05e_a3d1_11eb_87a3_0242ac1c0002row5_col0\" class=\"data row5 col0\" >Vgg19</td>\n",
              "                        <td id=\"T_9025c05e_a3d1_11eb_87a3_0242ac1c0002row5_col1\" class=\"data row5 col1\" >0.887300</td>\n",
              "            </tr>\n",
              "            <tr>\n",
              "                                <td id=\"T_9025c05e_a3d1_11eb_87a3_0242ac1c0002row6_col0\" class=\"data row6 col0\" >Densenet169</td>\n",
              "                        <td id=\"T_9025c05e_a3d1_11eb_87a3_0242ac1c0002row6_col1\" class=\"data row6 col1\" >0.886200</td>\n",
              "            </tr>\n",
              "    </tbody></table>"
            ],
            "text/plain": [
              "<pandas.io.formats.style.Styler at 0x7f04d01f38d0>"
            ]
          },
          "metadata": {
            "tags": []
          },
          "execution_count": 101
        }
      ]
    },
    {
      "cell_type": "markdown",
      "metadata": {
        "id": "ANPkXGyB8NOx"
      },
      "source": [
        "## Модель Densenet-121"
      ]
    },
    {
      "cell_type": "code",
      "metadata": {
        "id": "oEBXbDVj8PKk"
      },
      "source": [
        "# model3 = to_device(IntelCnnModeldensenet(), device)\n",
        "# model3 = to_device(model3, device)\n",
        "# evaluate(model3, valid_dl)"
      ],
      "execution_count": 68,
      "outputs": []
    },
    {
      "cell_type": "code",
      "metadata": {
        "id": "JMCEhRaU8ddG"
      },
      "source": [
        "# num_epochs = 100\n",
        "# opt_func = torch.optim.Adam\n",
        "# lr = 0.00001\n",
        "# history = fit(num_epochs, lr, model3, train_dl, valid_dl, opt_func)\n",
        "# evaluate(model3, valid_dl)"
      ],
      "execution_count": 69,
      "outputs": []
    },
    {
      "cell_type": "code",
      "metadata": {
        "id": "ioweU3Ir-iWf"
      },
      "source": [
        "# evaluate(model3, valid_dl)"
      ],
      "execution_count": 70,
      "outputs": []
    },
    {
      "cell_type": "markdown",
      "metadata": {
        "id": "4BA23RHzymSY"
      },
      "source": [
        "## 5)Предсказание"
      ]
    },
    {
      "cell_type": "code",
      "metadata": {
        "id": "SK1rlVlOfovV"
      },
      "source": [
        "#функция предсказания на общем Тесте\n",
        "\n",
        "# def predict_single(input,label, model):\n",
        "#     input = to_device(input,device)\n",
        "#     inputs = input.unsqueeze(0)   # unsqueeze the input i.e. add an additonal dimension\n",
        "#     predictions = model(inputs)\n",
        "#     prediction = predictions[0].detach().cpu()\n",
        "#     print(f\"Предсказала {np.argmax(prediction)}, должна была предсказать {label}\")"
      ],
      "execution_count": 71,
      "outputs": []
    },
    {
      "cell_type": "code",
      "metadata": {
        "id": "TqWBDtS1S2o_"
      },
      "source": [
        "# for i,img in enumerate(test_dataset):\n",
        "#   print(img[0], img[1])\n",
        "#   predict_single(img[0],img[1], model1)\n",
        "#   break"
      ],
      "execution_count": 72,
      "outputs": []
    },
    {
      "cell_type": "code",
      "metadata": {
        "id": "SRzDpQidwjty"
      },
      "source": [
        "results = pd.DataFrame({'model':['Resnet50','Resnet101', 'Resnet152', 'WideResNet-101-2', 'Vgg19', 'Densenet169', 'Densenet121' ],'val_accuracy':[0.9002, 0.9254, 0.9265, 0.9301, 0.8873, 0.8862, 0.9047  ]})"
      ],
      "execution_count": 97,
      "outputs": []
    },
    {
      "cell_type": "code",
      "metadata": {
        "id": "E8p8UlaMwvCq"
      },
      "source": [
        "results = results.sort_values(by ='val_accuracy', ascending=False)\n"
      ],
      "execution_count": 98,
      "outputs": []
    },
    {
      "cell_type": "code",
      "metadata": {
        "id": "n9PtRUU2QHAR"
      },
      "source": [
        "results = results.style.hide_index()"
      ],
      "execution_count": 99,
      "outputs": []
    },
    {
      "cell_type": "code",
      "metadata": {
        "colab": {
          "base_uri": "https://localhost:8080/",
          "height": 178
        },
        "id": "5tKnuWv3R_DV",
        "outputId": "131a800e-49af-4a63-bfc1-2f92f9c31ca1"
      },
      "source": [
        "results"
      ],
      "execution_count": 100,
      "outputs": [
        {
          "output_type": "execute_result",
          "data": {
            "text/html": [
              "<style  type=\"text/css\" >\n",
              "</style><table id=\"T_7dfe5fbc_a3d1_11eb_87a3_0242ac1c0002\" ><thead>    <tr>        <th class=\"col_heading level0 col0\" >model</th>        <th class=\"col_heading level0 col1\" >val_accuracy</th>    </tr></thead><tbody>\n",
              "                <tr>\n",
              "                                <td id=\"T_7dfe5fbc_a3d1_11eb_87a3_0242ac1c0002row0_col0\" class=\"data row0 col0\" >WideResNet-101-2</td>\n",
              "                        <td id=\"T_7dfe5fbc_a3d1_11eb_87a3_0242ac1c0002row0_col1\" class=\"data row0 col1\" >0.930100</td>\n",
              "            </tr>\n",
              "            <tr>\n",
              "                                <td id=\"T_7dfe5fbc_a3d1_11eb_87a3_0242ac1c0002row1_col0\" class=\"data row1 col0\" >Resnet152</td>\n",
              "                        <td id=\"T_7dfe5fbc_a3d1_11eb_87a3_0242ac1c0002row1_col1\" class=\"data row1 col1\" >0.926500</td>\n",
              "            </tr>\n",
              "            <tr>\n",
              "                                <td id=\"T_7dfe5fbc_a3d1_11eb_87a3_0242ac1c0002row2_col0\" class=\"data row2 col0\" >Resnet101</td>\n",
              "                        <td id=\"T_7dfe5fbc_a3d1_11eb_87a3_0242ac1c0002row2_col1\" class=\"data row2 col1\" >0.925400</td>\n",
              "            </tr>\n",
              "            <tr>\n",
              "                                <td id=\"T_7dfe5fbc_a3d1_11eb_87a3_0242ac1c0002row3_col0\" class=\"data row3 col0\" >Densenet121</td>\n",
              "                        <td id=\"T_7dfe5fbc_a3d1_11eb_87a3_0242ac1c0002row3_col1\" class=\"data row3 col1\" >0.904700</td>\n",
              "            </tr>\n",
              "            <tr>\n",
              "                                <td id=\"T_7dfe5fbc_a3d1_11eb_87a3_0242ac1c0002row4_col0\" class=\"data row4 col0\" >Resnet50</td>\n",
              "                        <td id=\"T_7dfe5fbc_a3d1_11eb_87a3_0242ac1c0002row4_col1\" class=\"data row4 col1\" >0.900200</td>\n",
              "            </tr>\n",
              "            <tr>\n",
              "                                <td id=\"T_7dfe5fbc_a3d1_11eb_87a3_0242ac1c0002row5_col0\" class=\"data row5 col0\" >Vgg19</td>\n",
              "                        <td id=\"T_7dfe5fbc_a3d1_11eb_87a3_0242ac1c0002row5_col1\" class=\"data row5 col1\" >0.887300</td>\n",
              "            </tr>\n",
              "            <tr>\n",
              "                                <td id=\"T_7dfe5fbc_a3d1_11eb_87a3_0242ac1c0002row6_col0\" class=\"data row6 col0\" >Densenet169</td>\n",
              "                        <td id=\"T_7dfe5fbc_a3d1_11eb_87a3_0242ac1c0002row6_col1\" class=\"data row6 col1\" >0.886200</td>\n",
              "            </tr>\n",
              "    </tbody></table>"
            ],
            "text/plain": [
              "<pandas.io.formats.style.Styler at 0x7f04d01f38d0>"
            ]
          },
          "metadata": {
            "tags": []
          },
          "execution_count": 100
        }
      ]
    },
    {
      "cell_type": "code",
      "metadata": {
        "id": "HLnbG1WFS-Cy"
      },
      "source": [
        ""
      ],
      "execution_count": null,
      "outputs": []
    }
  ]
}